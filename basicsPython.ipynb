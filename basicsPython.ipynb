{
 "cells": [
  {
   "cell_type": "code",
   "execution_count": 1,
   "id": "08d8ba73-064f-4aea-804a-9be843d376bc",
   "metadata": {},
   "outputs": [
    {
     "name": "stdout",
     "output_type": "stream",
     "text": [
      "7.0\n"
     ]
    }
   ],
   "source": [
    "num1 = 5\n",
    "num2 = 2.0\n",
    "sum = num1 + num2\n",
    "print(sum)"
   ]
  },
  {
   "cell_type": "code",
   "execution_count": 4,
   "id": "18adf23c-5a0e-4917-8d4d-2af3c909f99f",
   "metadata": {},
   "outputs": [
    {
     "name": "stdout",
     "output_type": "stream",
     "text": [
      "2.5\n"
     ]
    }
   ],
   "source": [
    "z = num1 / num2\n",
    "print(z)"
   ]
  },
  {
   "cell_type": "code",
   "execution_count": 7,
   "id": "1c864f9e-1914-4b6e-80a1-f8c5d11f4050",
   "metadata": {},
   "outputs": [
    {
     "name": "stdout",
     "output_type": "stream",
     "text": [
      "1234\n"
     ]
    }
   ],
   "source": [
    "x = \"1234\"\n",
    "y = int(x)\n",
    "print(y)"
   ]
  },
  {
   "cell_type": "code",
   "execution_count": 8,
   "id": "ffca3044-901d-4344-a98a-7ab7a74945d2",
   "metadata": {},
   "outputs": [
    {
     "name": "stdout",
     "output_type": "stream",
     "text": [
      "3\n"
     ]
    }
   ],
   "source": [
    "z = 3.8\n",
    "w = int(z)\n",
    "print(w)"
   ]
  },
  {
   "cell_type": "code",
   "execution_count": 11,
   "id": "32d8304c-5566-432c-bc49-a5c2d4249317",
   "metadata": {},
   "outputs": [
    {
     "name": "stdout",
     "output_type": "stream",
     "text": [
      "3.56\n"
     ]
    }
   ],
   "source": [
    "z = 3.56\n",
    "w = float(z)\n",
    "print(w)"
   ]
  },
  {
   "cell_type": "code",
   "execution_count": 19,
   "id": "f9c34ea2-6ef4-420b-b2fa-407be723c987",
   "metadata": {},
   "outputs": [
    {
     "name": "stdout",
     "output_type": "stream",
     "text": [
      "Sheraz Ahmad\n"
     ]
    },
    {
     "data": {
      "text/plain": [
       "str"
      ]
     },
     "execution_count": 19,
     "metadata": {},
     "output_type": "execute_result"
    }
   ],
   "source": [
    "firstName = \"Sheraz \"\n",
    "secondName = 'Ahmad'\n",
    "fullName = firstName + secondName\n",
    "print(fullName)\n",
    "type(fullName)"
   ]
  },
  {
   "cell_type": "code",
   "execution_count": 17,
   "id": "e4f2529f-ccef-41ec-8d76-c5d8eb5477ff",
   "metadata": {},
   "outputs": [
    {
     "ename": "TypeError",
     "evalue": "can only concatenate str (not \"float\") to str",
     "output_type": "error",
     "traceback": [
      "\u001b[1;31m---------------------------------------------------------------------------\u001b[0m",
      "\u001b[1;31mTypeError\u001b[0m                                 Traceback (most recent call last)",
      "Cell \u001b[1;32mIn[17], line 1\u001b[0m\n\u001b[1;32m----> 1\u001b[0m \u001b[38;5;28mprint\u001b[39m(firstName \u001b[38;5;241m+\u001b[39m z)\n",
      "\u001b[1;31mTypeError\u001b[0m: can only concatenate str (not \"float\") to str"
     ]
    }
   ],
   "source": [
    "print(firstName + z)"
   ]
  },
  {
   "cell_type": "code",
   "execution_count": 20,
   "id": "9fa10c3f-644b-49dc-bb0b-58bdd31aecf6",
   "metadata": {},
   "outputs": [
    {
     "name": "stdout",
     "output_type": "stream",
     "text": [
      "Sheraz 3.56\n"
     ]
    }
   ],
   "source": [
    "print(firstName + str(z))"
   ]
  },
  {
   "cell_type": "code",
   "execution_count": 24,
   "id": "746c22f3-5915-4a39-96a8-e550a08f527c",
   "metadata": {},
   "outputs": [
    {
     "name": "stdout",
     "output_type": "stream",
     "text": [
      "(43+45j)\n"
     ]
    },
    {
     "data": {
      "text/plain": [
       "complex"
      ]
     },
     "execution_count": 24,
     "metadata": {},
     "output_type": "execute_result"
    }
   ],
   "source": [
    "z = 43 + 45j\n",
    "print(z)\n",
    "type(z)"
   ]
  },
  {
   "cell_type": "code",
   "execution_count": 26,
   "id": "3de455ee-0736-4e00-8ab0-dccf764ab128",
   "metadata": {},
   "outputs": [
    {
     "name": "stdout",
     "output_type": "stream",
     "text": [
      "The real part is 43.0, The imaginary part is 45.0\n"
     ]
    }
   ],
   "source": [
    "print('The real part is {0}, The imaginary part is {1}'.format(z.real, z.imag))"
   ]
  },
  {
   "cell_type": "code",
   "execution_count": 28,
   "id": "28518950-dd7d-4546-85bc-00ee888e778b",
   "metadata": {},
   "outputs": [
    {
     "name": "stdout",
     "output_type": "stream",
     "text": [
      "Addition:  (4+6j)\n",
      "Subtraction:  (-2-2j)\n",
      "Multiplication:  (-5+10j)\n",
      "Division:  (0.44+0.08j)\n",
      "Conjugate:  (1-2j)\n"
     ]
    }
   ],
   "source": [
    "x, y = complex(1, 2), complex(3, 4)\n",
    "\n",
    "print(\"Addition: \", x + y)\n",
    "print(\"Subtraction: \", x - y)\n",
    "print(\"Multiplication: \", x * y)\n",
    "print(\"Division: \", x / y)\n",
    "print(\"Conjugate: \", x.conjugate())"
   ]
  },
  {
   "cell_type": "code",
   "execution_count": null,
   "id": "3154334c-c8ee-4e52-82d1-1ab10cd6b0a4",
   "metadata": {},
   "outputs": [],
   "source": []
  }
 ],
 "metadata": {
  "kernelspec": {
   "display_name": "Python 3 (ipykernel)",
   "language": "python",
   "name": "python3"
  },
  "language_info": {
   "codemirror_mode": {
    "name": "ipython",
    "version": 3
   },
   "file_extension": ".py",
   "mimetype": "text/x-python",
   "name": "python",
   "nbconvert_exporter": "python",
   "pygments_lexer": "ipython3",
   "version": "3.11.7"
  }
 },
 "nbformat": 4,
 "nbformat_minor": 5
}
