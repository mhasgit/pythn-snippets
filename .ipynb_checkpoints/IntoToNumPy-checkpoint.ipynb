{
 "cells": [
  {
   "cell_type": "code",
   "execution_count": 20,
   "id": "871588d7-c62f-4bac-98a5-182e09df90c7",
   "metadata": {},
   "outputs": [
    {
     "data": {
      "text/plain": [
       "[1, 2, 3, 4, 5, 6, 7, 8, 9, 10]"
      ]
     },
     "execution_count": 20,
     "metadata": {},
     "output_type": "execute_result"
    }
   ],
   "source": [
    "numList1 = [1, 2, 3, 4, 5]\n",
    "numList2 = [6, 7, 8, 9, 10]\n",
    "\n",
    "numList1 + numList2"
   ]
  },
  {
   "cell_type": "code",
   "execution_count": 21,
   "id": "975c75c6-44a8-4d3b-8c2a-f2814f66660b",
   "metadata": {},
   "outputs": [
    {
     "data": {
      "text/plain": [
       "array([ 6, 14, 24, 36, 50])"
      ]
     },
     "execution_count": 21,
     "metadata": {},
     "output_type": "execute_result"
    }
   ],
   "source": [
    "import numpy as np\n",
    "\n",
    "Arr1 = np.array(numList1)\n",
    "Arr2 = np.array(numList2)\n",
    "\n",
    "Arr1 * Arr2"
   ]
  },
  {
   "cell_type": "code",
   "execution_count": 12,
   "id": "cd9cb347-6573-46b7-b2e9-1692d1ad9ec3",
   "metadata": {},
   "outputs": [
    {
     "data": {
      "text/plain": [
       "numpy.ndarray"
      ]
     },
     "execution_count": 12,
     "metadata": {},
     "output_type": "execute_result"
    }
   ],
   "source": [
    "type(Arr1)"
   ]
  },
  {
   "cell_type": "code",
   "execution_count": 22,
   "id": "d21ab91e-605e-4beb-8fae-3d958fd087ca",
   "metadata": {},
   "outputs": [
    {
     "data": {
      "text/plain": [
       "numpy.matrix"
      ]
     },
     "execution_count": 22,
     "metadata": {},
     "output_type": "execute_result"
    }
   ],
   "source": [
    "M1 = np.matrix( [[1, 0], [0, 1]] )\n",
    "M2 = np.matrix( [[0.5, 2.0], [-4.0, 2.5]] )\n",
    "\n",
    "type(M1)"
   ]
  },
  {
   "cell_type": "code",
   "execution_count": 23,
   "id": "703a949c-9fe5-4961-a9a6-388db12ffcd8",
   "metadata": {},
   "outputs": [
    {
     "data": {
      "text/plain": [
       "matrix([[ 1.5,  2. ],\n",
       "        [-4. ,  3.5]])"
      ]
     },
     "execution_count": 23,
     "metadata": {},
     "output_type": "execute_result"
    }
   ],
   "source": [
    "M1 + M2"
   ]
  },
  {
   "cell_type": "code",
   "execution_count": 24,
   "id": "a013d43c-41d0-4061-be6f-0a36a9be0a9c",
   "metadata": {},
   "outputs": [
    {
     "data": {
      "text/plain": [
       "matrix([[ 0.5,  2. ],\n",
       "        [-4. ,  2.5]])"
      ]
     },
     "execution_count": 24,
     "metadata": {},
     "output_type": "execute_result"
    }
   ],
   "source": [
    "M1 * M2"
   ]
  },
  {
   "cell_type": "code",
   "execution_count": 26,
   "id": "386d9eb2-3574-4d78-9dae-087c3283103c",
   "metadata": {},
   "outputs": [
    {
     "data": {
      "text/plain": [
       "matrix([[1, 0],\n",
       "        [0, 1]])"
      ]
     },
     "execution_count": 26,
     "metadata": {},
     "output_type": "execute_result"
    }
   ],
   "source": [
    "M1.transpose()"
   ]
  },
  {
   "cell_type": "code",
   "execution_count": 27,
   "id": "8dd8cde2-19f4-4929-9ec1-501d52280988",
   "metadata": {},
   "outputs": [
    {
     "data": {
      "text/plain": [
       "dtype('int32')"
      ]
     },
     "execution_count": 27,
     "metadata": {},
     "output_type": "execute_result"
    }
   ],
   "source": [
    "M1.dtype"
   ]
  },
  {
   "cell_type": "code",
   "execution_count": 28,
   "id": "e6fed52b-87c6-4745-9e5f-39dbb139dd61",
   "metadata": {},
   "outputs": [
    {
     "data": {
      "text/plain": [
       "dtype('float64')"
      ]
     },
     "execution_count": 28,
     "metadata": {},
     "output_type": "execute_result"
    }
   ],
   "source": [
    "M2.dtype"
   ]
  },
  {
   "cell_type": "code",
   "execution_count": 30,
   "id": "b7915aa4-496d-4b79-a2f3-bec167b9a5c1",
   "metadata": {},
   "outputs": [
    {
     "data": {
      "text/plain": [
       "(5,)"
      ]
     },
     "execution_count": 30,
     "metadata": {},
     "output_type": "execute_result"
    }
   ],
   "source": [
    "Arr1.shape"
   ]
  },
  {
   "cell_type": "code",
   "execution_count": 33,
   "id": "189cf01e-1e09-46da-96d5-c67db5bd454c",
   "metadata": {},
   "outputs": [
    {
     "data": {
      "text/plain": [
       "(2, 2)"
      ]
     },
     "execution_count": 33,
     "metadata": {},
     "output_type": "execute_result"
    }
   ],
   "source": [
    "M2.shape"
   ]
  },
  {
   "cell_type": "code",
   "execution_count": 44,
   "id": "e55a3d94-603b-4746-9000-cfc135b72690",
   "metadata": {},
   "outputs": [
    {
     "name": "stdout",
     "output_type": "stream",
     "text": [
      "[1 2 3]\n",
      "[0 2 4 6 8]\n"
     ]
    }
   ],
   "source": [
    "arr = np.arange(12)\n",
    "print(arr[1:4])\n",
    "print(arr[0:10:2])"
   ]
  },
  {
   "cell_type": "code",
   "execution_count": 49,
   "id": "ce183d6b-4165-4723-9a09-880515297dba",
   "metadata": {},
   "outputs": [
    {
     "data": {
      "text/plain": [
       "(9.0, 4.5)"
      ]
     },
     "execution_count": 49,
     "metadata": {},
     "output_type": "execute_result"
    }
   ],
   "source": [
    "marks = np.array([[8, 9, 7],\n",
    "                [4.5, 6, 3.5],\n",
    "                [8.5, 10, 9],\n",
    "                [8, 6.5, 9.5],\n",
    "                [9, 10, 7.5]])\n",
    "marks[:,0].max(), marks[:,0].min()"
   ]
  },
  {
   "cell_type": "code",
   "execution_count": 50,
   "id": "c48a7a58-b01e-4577-9e1e-ac9224ec35e1",
   "metadata": {},
   "outputs": [
    {
     "data": {
      "text/plain": [
       "38.0"
      ]
     },
     "execution_count": 50,
     "metadata": {},
     "output_type": "execute_result"
    }
   ],
   "source": [
    "marks[:,0].sum()"
   ]
  },
  {
   "cell_type": "code",
   "execution_count": 51,
   "id": "9240f0e3-ad17-4539-9bd5-e67ca0b5bb43",
   "metadata": {},
   "outputs": [
    {
     "data": {
      "text/plain": [
       "7.6"
      ]
     },
     "execution_count": 51,
     "metadata": {},
     "output_type": "execute_result"
    }
   ],
   "source": [
    "marks[:,0].mean()"
   ]
  },
  {
   "cell_type": "code",
   "execution_count": 52,
   "id": "87a1f9d0-ba86-41f4-a175-03f00f6dd009",
   "metadata": {},
   "outputs": [
    {
     "data": {
      "text/plain": [
       "1.5937377450509227"
      ]
     },
     "execution_count": 52,
     "metadata": {},
     "output_type": "execute_result"
    }
   ],
   "source": [
    "marks[:,0].std()"
   ]
  },
  {
   "cell_type": "code",
   "execution_count": 54,
   "id": "de0afde9-a915-4f91-b1bf-fbc5e0fef8b1",
   "metadata": {},
   "outputs": [],
   "source": [
    "from scipy import stats\n",
    "\n",
    "from numpy import array, dot\n",
    "from scipy import linalg"
   ]
  },
  {
   "cell_type": "code",
   "execution_count": 55,
   "id": "2ccf2192-bb14-489c-8c71-b8966e44b2b3",
   "metadata": {},
   "outputs": [],
   "source": [
    "x = array([[1, 10], [1, 21], [1, 29], [1, 35]])\n",
    "y = array([[0.5], [2.2], [3.1], [3.5]])"
   ]
  },
  {
   "cell_type": "code",
   "execution_count": 58,
   "id": "4cd52a38-684c-4f8c-a169-e783fb344a84",
   "metadata": {},
   "outputs": [],
   "source": [
    "n = linalg.inv(dot(x.T, x))\n",
    "k = dot(x.T, x)\n",
    "\n",
    "coef = dot(n, k)"
   ]
  },
  {
   "cell_type": "code",
   "execution_count": 60,
   "id": "89a6a8e6-b5a7-4bcb-a0f8-a13db01f3354",
   "metadata": {},
   "outputs": [
    {
     "name": "stdout",
     "output_type": "stream",
     "text": [
      "[[1.00000000e+00 2.84217094e-14]\n",
      " [0.00000000e+00 1.00000000e+00]]\n"
     ]
    }
   ],
   "source": [
    "# print(n)\n",
    "# print(k)\n",
    "print(coef)"
   ]
  },
  {
   "cell_type": "code",
   "execution_count": 61,
   "id": "d46b717d-c751-4b82-83ea-f3d9a5ecfe64",
   "metadata": {},
   "outputs": [
    {
     "data": {
      "text/plain": [
       "(0.8862269254527579, 7.101318390472462e-09)"
      ]
     },
     "execution_count": 61,
     "metadata": {},
     "output_type": "execute_result"
    }
   ],
   "source": [
    "from scipy import integrate\n",
    "g = lambda x: np.exp(-x**2)\n",
    "integrate.quad(g, 0, np.inf)"
   ]
  },
  {
   "cell_type": "code",
   "execution_count": 62,
   "id": "baec6560-4060-4cdb-8923-4afde7b86752",
   "metadata": {},
   "outputs": [
    {
     "data": {
      "text/plain": [
       "array([0.78539816])"
      ]
     },
     "execution_count": 62,
     "metadata": {},
     "output_type": "execute_result"
    }
   ],
   "source": [
    "from scipy import optimize\n",
    "f = lambda x: np.tan(x)-1\n",
    "optimize.fsolve(f, 0)"
   ]
  },
  {
   "cell_type": "code",
   "execution_count": 2,
   "id": "ecacf94f-c95e-4ba7-8cc8-1e7cb10a3cfc",
   "metadata": {},
   "outputs": [
    {
     "name": "stdout",
     "output_type": "stream",
     "text": [
      "1.26.4\n"
     ]
    }
   ],
   "source": [
    "import numpy as np\n",
    "print(np.__version__)"
   ]
  },
  {
   "cell_type": "code",
   "execution_count": 3,
   "id": "5840d28b-a0c3-4926-b979-8feab3dc05a0",
   "metadata": {},
   "outputs": [
    {
     "name": "stdout",
     "output_type": "stream",
     "text": [
      "Build Dependencies:\n",
      "  blas:\n",
      "    detection method: pkgconfig\n",
      "    found: true\n",
      "    include directory: C:/ProgramData/anaconda3/Library/include\n",
      "    lib directory: C:/ProgramData/anaconda3/Library/lib\n",
      "    name: mkl-sdl\n",
      "    openblas configuration: unknown\n",
      "    pc file directory: C:\\b\\abs_c1ywpu18ar\\croot\\numpy_and_numpy_base_1708638681471\\_h_env\\Library\\lib\\pkgconfig\n",
      "    version: '2023.1'\n",
      "  lapack:\n",
      "    detection method: internal\n",
      "    found: true\n",
      "    include directory: unknown\n",
      "    lib directory: unknown\n",
      "    name: dep1868282989520\n",
      "    openblas configuration: unknown\n",
      "    pc file directory: unknown\n",
      "    version: 1.26.4\n",
      "Compilers:\n",
      "  c:\n",
      "    commands: cl.exe\n",
      "    linker: link\n",
      "    name: msvc\n",
      "    version: 19.29.30154\n",
      "  c++:\n",
      "    commands: cl.exe\n",
      "    linker: link\n",
      "    name: msvc\n",
      "    version: 19.29.30154\n",
      "  cython:\n",
      "    commands: cython\n",
      "    linker: cython\n",
      "    name: cython\n",
      "    version: 3.0.8\n",
      "Machine Information:\n",
      "  build:\n",
      "    cpu: x86_64\n",
      "    endian: little\n",
      "    family: x86_64\n",
      "    system: windows\n",
      "  host:\n",
      "    cpu: x86_64\n",
      "    endian: little\n",
      "    family: x86_64\n",
      "    system: windows\n",
      "Python Information:\n",
      "  path: C:\\b\\abs_c1ywpu18ar\\croot\\numpy_and_numpy_base_1708638681471\\_h_env\\python.exe\n",
      "  version: '3.11'\n",
      "SIMD Extensions:\n",
      "  baseline:\n",
      "  - SSE\n",
      "  - SSE2\n",
      "  - SSE3\n",
      "  found:\n",
      "  - SSSE3\n",
      "  - SSE41\n",
      "  - POPCNT\n",
      "  - SSE42\n",
      "  - AVX\n",
      "  - F16C\n",
      "  - FMA3\n",
      "  - AVX2\n",
      "  not found:\n",
      "  - AVX512F\n",
      "  - AVX512CD\n",
      "  - AVX512_SKX\n",
      "  - AVX512_CLX\n",
      "  - AVX512_CNL\n",
      "  - AVX512_ICL\n",
      "\n",
      "None\n"
     ]
    }
   ],
   "source": [
    "print(np.show_config())"
   ]
  },
  {
   "cell_type": "code",
   "execution_count": 5,
   "id": "03908755-107c-48e4-81fe-be988a2774de",
   "metadata": {},
   "outputs": [
    {
     "name": "stdout",
     "output_type": "stream",
     "text": [
      "add(x1, x2, /, out=None, *, where=True, casting='same_kind', order='K', dtype=None, subok=True[, signature, extobj])\n",
      "\n",
      "Add arguments element-wise.\n",
      "\n",
      "Parameters\n",
      "----------\n",
      "x1, x2 : array_like\n",
      "    The arrays to be added.\n",
      "    If ``x1.shape != x2.shape``, they must be broadcastable to a common\n",
      "    shape (which becomes the shape of the output).\n",
      "out : ndarray, None, or tuple of ndarray and None, optional\n",
      "    A location into which the result is stored. If provided, it must have\n",
      "    a shape that the inputs broadcast to. If not provided or None,\n",
      "    a freshly-allocated array is returned. A tuple (possible only as a\n",
      "    keyword argument) must have length equal to the number of outputs.\n",
      "where : array_like, optional\n",
      "    This condition is broadcast over the input. At locations where the\n",
      "    condition is True, the `out` array will be set to the ufunc result.\n",
      "    Elsewhere, the `out` array will retain its original value.\n",
      "    Note that if an uninitialized `out` array is created via the default\n",
      "    ``out=None``, locations within it where the condition is False will\n",
      "    remain uninitialized.\n",
      "**kwargs\n",
      "    For other keyword-only arguments, see the\n",
      "    :ref:`ufunc docs <ufuncs.kwargs>`.\n",
      "\n",
      "Returns\n",
      "-------\n",
      "add : ndarray or scalar\n",
      "    The sum of `x1` and `x2`, element-wise.\n",
      "    This is a scalar if both `x1` and `x2` are scalars.\n",
      "\n",
      "Notes\n",
      "-----\n",
      "Equivalent to `x1` + `x2` in terms of array broadcasting.\n",
      "\n",
      "Examples\n",
      "--------\n",
      ">>> np.add(1.0, 4.0)\n",
      "5.0\n",
      ">>> x1 = np.arange(9.0).reshape((3, 3))\n",
      ">>> x2 = np.arange(3.0)\n",
      ">>> np.add(x1, x2)\n",
      "array([[  0.,   2.,   4.],\n",
      "       [  3.,   5.,   7.],\n",
      "       [  6.,   8.,  10.]])\n",
      "\n",
      "The ``+`` operator can be used as a shorthand for ``np.add`` on ndarrays.\n",
      "\n",
      ">>> x1 = np.arange(9.0).reshape((3, 3))\n",
      ">>> x2 = np.arange(3.0)\n",
      ">>> x1 + x2\n",
      "array([[ 0.,  2.,  4.],\n",
      "       [ 3.,  5.,  7.],\n",
      "       [ 6.,  8., 10.]])\n",
      "None\n"
     ]
    }
   ],
   "source": [
    "print(np.info(np.add))"
   ]
  },
  {
   "cell_type": "code",
   "execution_count": null,
   "id": "2e1ed5df-6fa8-4f45-b3e3-23884da736a1",
   "metadata": {},
   "outputs": [],
   "source": [
    "import numpy as np \n",
    "#converting list into array using numpy\n",
    "a - np.array([1, 0, np.nan, np.inf, 2])\n",
    "print(\"Original array :\",a) \n",
    "print(\"Test a given array element-wise for finiteness :\")\n",
    "print(np.isfinite(a))"
   ]
  },
  {
   "cell_type": "code",
   "execution_count": null,
   "id": "97add0ff-371d-4fdf-8785-db972e08ff5b",
   "metadata": {},
   "outputs": [],
   "source": [
    "import numpy as np\n",
    "a = np.array([1, 0, np.nan, np.inf,np.nan]) \n",
    "print(\"Original array\") \n",
    "print(a) \n",
    "print(\"Test element-wise for NaN:\")\n",
    "print(np.isnan(a))"
   ]
  },
  {
   "cell_type": "code",
   "execution_count": 6,
   "id": "73fdad44-252e-42a7-8bf4-7e0ea648a9b5",
   "metadata": {},
   "outputs": [
    {
     "ename": "SyntaxError",
     "evalue": "unterminated string literal (detected at line 1) (2623779452.py, line 1)",
     "output_type": "error",
     "traceback": [
      "\u001b[1;36m  Cell \u001b[1;32mIn[6], line 1\u001b[1;36m\u001b[0m\n\u001b[1;33m    impe to numpy as np or not( 'add by printing. add(1 a, 4.0)) prints Subt act is print (mp. Subtract (1 , a 8)) prints \"Multiply\") phenylalanine and printing d vide(2 0, a 8))\u001b[0m\n\u001b[1;37m                                ^\u001b[0m\n\u001b[1;31mSyntaxError\u001b[0m\u001b[1;31m:\u001b[0m unterminated string literal (detected at line 1)\n"
     ]
    }
   ],
   "source": [
    "import numpy as np\n",
    "print('Add: ')\n",
    "print(np.add(1 a, 4.0))\n",
    "print('Subt: ')\n",
    "print(np.subtract(1 , a 8))\n",
    "print(\"Multiply: \")\n",
    "print(np.multiply(2.0, 8.0))\n",
    "print('Divide: ')\n",
    "print((np.divide(2.0, 0.8))"
   ]
  },
  {
   "cell_type": "code",
   "execution_count": null,
   "id": "689cb431-2c83-48b5-9501-3e3c4b64e1df",
   "metadata": {},
   "outputs": [],
   "source": [
    "import numpy as np\n",
    "x = np.array([-.7, -1.5, -1.7, 0.3, 1.5, 1.8, 2.0]) \n",
    "print(\"Original array:\") \n",
    "print(x)\n",
    "x = np.rint(x)\n",
    "print(\"Round elements of the array to the nearest integer:\")\n",
    "print(x)"
   ]
  }
 ],
 "metadata": {
  "kernelspec": {
   "display_name": "Python 3 (ipykernel)",
   "language": "python",
   "name": "python3"
  },
  "language_info": {
   "codemirror_mode": {
    "name": "ipython",
    "version": 3
   },
   "file_extension": ".py",
   "mimetype": "text/x-python",
   "name": "python",
   "nbconvert_exporter": "python",
   "pygments_lexer": "ipython3",
   "version": "3.11.7"
  }
 },
 "nbformat": 4,
 "nbformat_minor": 5
}
