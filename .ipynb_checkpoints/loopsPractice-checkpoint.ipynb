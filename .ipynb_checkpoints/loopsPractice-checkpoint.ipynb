{
 "cells": [
  {
   "cell_type": "code",
   "execution_count": 10,
   "id": "6c16f0f0-e387-44b8-8361-855bd5b0a7e0",
   "metadata": {},
   "outputs": [
    {
     "name": "stdout",
     "output_type": "stream",
     "text": [
      "Hello\n",
      "Hello\n",
      "Hello\n"
     ]
    }
   ],
   "source": [
    "count = 0\n",
    "while(count < 3):\n",
    "    count = count + 1\n",
    "    \n",
    "    print(\"Hello\")"
   ]
  },
  {
   "cell_type": "code",
   "execution_count": 7,
   "id": "5f5d392b-952e-4ea7-a580-9e092c5d40cc",
   "metadata": {},
   "outputs": [
    {
     "name": "stdout",
     "output_type": "stream",
     "text": [
      "Salute, Riaz\n",
      "Salute, Najeeb\n",
      "Salute, Hamza\n"
     ]
    }
   ],
   "source": [
    "students = [\"Riaz\", \"Najeeb\", \"Hamza\"]\n",
    "for student in students:\n",
    "    print(\"Salute, {0}\".format(student))"
   ]
  },
  {
   "cell_type": "code",
   "execution_count": 24,
   "id": "1be6cce0-fa6a-4a20-bc8a-ef5b1dd94fd2",
   "metadata": {},
   "outputs": [],
   "source": [
    "def greetings():\n",
    "    \"'Warm Greetings'\"\n",
    "    student = \"Hello! Riaz \"\n",
    "    beverage = \"Apple Juice\"\n",
    "    statement = \" because it is \"\n",
    "    temperature = \"Hot\"\n",
    "    return student + beverage + statement + temperature"
   ]
  },
  {
   "cell_type": "code",
   "execution_count": 25,
   "id": "bb682186-2e2d-48d3-9ca8-86df88384a56",
   "metadata": {},
   "outputs": [
    {
     "data": {
      "text/plain": [
       "'Hello! Riaz Apple Juice because it is Hot'"
      ]
     },
     "execution_count": 25,
     "metadata": {},
     "output_type": "execute_result"
    }
   ],
   "source": [
    "greetings()"
   ]
  },
  {
   "cell_type": "code",
   "execution_count": 27,
   "id": "519a3870-9b1d-4838-9cd4-f9d169a881eb",
   "metadata": {},
   "outputs": [
    {
     "name": "stdout",
     "output_type": "stream",
     "text": [
      "'Warm Greetings'\n"
     ]
    }
   ],
   "source": [
    "print(greetings.__doc__)"
   ]
  },
  {
   "cell_type": "code",
   "execution_count": 28,
   "id": "a428f358-0f76-47f5-812e-0de3bf880a4b",
   "metadata": {},
   "outputs": [],
   "source": [
    "def areaOfTriangle(base, height = 1.0):\n",
    "    return base * height / 2"
   ]
  },
  {
   "cell_type": "code",
   "execution_count": 30,
   "id": "dd771381-adb4-496d-bfeb-c0f25f255358",
   "metadata": {},
   "outputs": [
    {
     "name": "stdout",
     "output_type": "stream",
     "text": [
      "24.0\n",
      "25.0\n"
     ]
    }
   ],
   "source": [
    "area = areaOfTriangle(12, 4)\n",
    "print(area)\n",
    "area = areaOfTriangle(50)\n",
    "print(area)"
   ]
  },
  {
   "cell_type": "code",
   "execution_count": null,
   "id": "d413534f-41f2-4db0-99b1-40f10945108e",
   "metadata": {},
   "outputs": [],
   "source": [
    "def conversionTemperature(temp, scale):\n",
    "    if scale == 'C':\n",
    "    result = (temp * 9/5 + 32)\n",
    "    print('Converting {0} C'.format(temp))\n",
    "    return result;\n",
    "elif scale == 'F':\n",
    "    result = (temp - 32) * 5/9\n",
    "    print('Converting {0} F'.format(temp))\n",
    "    return result\n",
    "else:\n",
    "    print('Please use C or F for the scale')\n",
    "    return None"
   ]
  }
 ],
 "metadata": {
  "kernelspec": {
   "display_name": "Python 3 (ipykernel)",
   "language": "python",
   "name": "python3"
  },
  "language_info": {
   "codemirror_mode": {
    "name": "ipython",
    "version": 3
   },
   "file_extension": ".py",
   "mimetype": "text/x-python",
   "name": "python",
   "nbconvert_exporter": "python",
   "pygments_lexer": "ipython3",
   "version": "3.11.7"
  }
 },
 "nbformat": 4,
 "nbformat_minor": 5
}
