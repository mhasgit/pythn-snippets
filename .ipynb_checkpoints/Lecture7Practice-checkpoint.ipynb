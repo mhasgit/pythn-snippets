{
 "cells": [
  {
   "cell_type": "code",
   "execution_count": 2,
   "id": "c05c6298-de22-4c5b-b610-f91a489c4198",
   "metadata": {},
   "outputs": [
    {
     "name": "stdout",
     "output_type": "stream",
     "text": [
      "Representing while loop\n",
      "Representing while loop\n",
      "Representing while loop\n"
     ]
    }
   ],
   "source": [
    "count = 0\n",
    "while (count < 3): \n",
    "    count = count + 1\n",
    "    print('Representing while loop')\n"
   ]
  },
  {
   "cell_type": "code",
   "execution_count": 5,
   "id": "94e1157b-fd37-4d9e-968e-ca65a54f41b5",
   "metadata": {},
   "outputs": [],
   "source": [
    "def picard_beverage():\n",
    "    ''' Make Captain Picard’s beverage '''\n",
    "    beverage = 'Tea. '\n",
    "    kind = 'Earl Grey. '\n",
    "    temperature = 'Hot.'\n",
    "    result = beverage + kind + temperature\n",
    "    return result"
   ]
  },
  {
   "cell_type": "code",
   "execution_count": 6,
   "id": "d06c54b7-e042-4de8-a01a-0970c2fd85dd",
   "metadata": {},
   "outputs": [
    {
     "data": {
      "text/plain": [
       "'Tea. Earl Grey. Hot.'"
      ]
     },
     "execution_count": 6,
     "metadata": {},
     "output_type": "execute_result"
    }
   ],
   "source": [
    "picard_beverage()"
   ]
  },
  {
   "cell_type": "code",
   "execution_count": 7,
   "id": "da31629c-6bd4-426c-853c-2d32c9a41688",
   "metadata": {},
   "outputs": [
    {
     "name": "stdout",
     "output_type": "stream",
     "text": [
      " Make Captain Picard’s beverage \n"
     ]
    }
   ],
   "source": [
    "print(picard_beverage.__doc__)"
   ]
  },
  {
   "cell_type": "code",
   "execution_count": 8,
   "id": "fd6d6ab6-9847-490d-b6df-5ede4f0c9ad2",
   "metadata": {},
   "outputs": [],
   "source": [
    "def area_triangle(base, height=1.0):\n",
    "    '''Calculate the area of a triangle'''\n",
    "    area = base * height / 2\n",
    "    return area "
   ]
  },
  {
   "cell_type": "code",
   "execution_count": 9,
   "id": "d5be7e44-3af2-4297-a26f-0e89335efbfc",
   "metadata": {},
   "outputs": [
    {
     "name": "stdout",
     "output_type": "stream",
     "text": [
      "25.0\n"
     ]
    }
   ],
   "source": [
    "a = area_triangle(50)\n",
    "print(a)"
   ]
  },
  {
   "cell_type": "code",
   "execution_count": 10,
   "id": "5ff9eef7-2ab1-42c3-b455-772eb2747c99",
   "metadata": {},
   "outputs": [
    {
     "name": "stdout",
     "output_type": "stream",
     "text": [
      "100.0\n"
     ]
    }
   ],
   "source": [
    "a1 = area_triangle(50, 4)\n",
    "print(a1)"
   ]
  },
  {
   "cell_type": "code",
   "execution_count": 11,
   "id": "5f496334-6177-4d7d-92db-27a36a083b22",
   "metadata": {},
   "outputs": [],
   "source": [
    "def conv_temp(temp, scale):\n",
    "    if scale == 'C':\n",
    "        result = (temp * 9/5) + 32\n",
    "        print('Converting {0} C'.format(temp))\n",
    "        return result\n",
    "    elif scale == 'F':\n",
    "        result = (temp - 32) * 5/9\n",
    "        print('Converting {0} F'.format(temp))\n",
    "        return result\n",
    "    else:\n",
    "        print('Please use C or F for the scale')\n",
    "        return None"
   ]
  },
  {
   "cell_type": "code",
   "execution_count": 13,
   "id": "f1b589ea-6d9c-43cb-a69f-49a00d19ad9b",
   "metadata": {},
   "outputs": [
    {
     "name": "stdout",
     "output_type": "stream",
     "text": [
      "Converting 451 F\n"
     ]
    },
    {
     "data": {
      "text/plain": [
       "232.77777777777777"
      ]
     },
     "execution_count": 13,
     "metadata": {},
     "output_type": "execute_result"
    }
   ],
   "source": [
    "conv_temp(451, 'F')"
   ]
  },
  {
   "cell_type": "code",
   "execution_count": 15,
   "id": "1ffad9ec-2ad1-44e7-8896-c370b18ed0e8",
   "metadata": {},
   "outputs": [
    {
     "data": {
      "text/plain": [
       "9"
      ]
     },
     "execution_count": 15,
     "metadata": {},
     "output_type": "execute_result"
    }
   ],
   "source": [
    "sq = lambda n: n*n\n",
    "sq(3)"
   ]
  },
  {
   "cell_type": "code",
   "execution_count": 16,
   "id": "d8522efd-5f2d-4767-83a2-f21e17655c29",
   "metadata": {},
   "outputs": [
    {
     "data": {
      "text/plain": [
       "[16, 196, 1764, 203401]"
      ]
     },
     "execution_count": 16,
     "metadata": {},
     "output_type": "execute_result"
    }
   ],
   "source": [
    "num = [4,14, 42, 451]\n",
    "[sq(n) for n in num]"
   ]
  },
  {
   "cell_type": "code",
   "execution_count": 21,
   "id": "9a9824ce-294c-4229-a07c-f01da5af2072",
   "metadata": {},
   "outputs": [],
   "source": [
    "def main():\n",
    "    '''Convert temperature provided by the user'''\n",
    "    t = input('Give me a temperature: ')\n",
    "    t = float(t)\n",
    "    s = input('C or F? ')\n",
    "    res = conv_temp(t, s)\n",
    "    if s == 'C':\n",
    "        print('{0} C is {1:.2f} F'.format(t, res))\n",
    "    elif s == 'F':\n",
    "        print('{0} F is {1:.2f} C'.format(t, res))\n",
    "    else:\n",
    "        print('Try again!')"
   ]
  },
  {
   "cell_type": "code",
   "execution_count": 22,
   "id": "70e9d7f8-3602-489c-a475-4468b159b918",
   "metadata": {},
   "outputs": [
    {
     "name": "stdin",
     "output_type": "stream",
     "text": [
      "Give me a temperature:  280\n",
      "C or F?  F\n"
     ]
    },
    {
     "name": "stdout",
     "output_type": "stream",
     "text": [
      "Converting 280.0 F\n",
      "280.0 F is 137.78 C\n"
     ]
    }
   ],
   "source": [
    "main()"
   ]
  },
  {
   "cell_type": "code",
   "execution_count": 32,
   "id": "3b0d795a-7189-49e2-9fb3-986be4b12fdb",
   "metadata": {},
   "outputs": [],
   "source": [
    "import math\n",
    "def area_circ(r):\n",
    "    '''Area of a circle of radius r'''\n",
    "    area = math.pi * r ** 2\n",
    "    return area"
   ]
  },
  {
   "cell_type": "code",
   "execution_count": 35,
   "id": "aace2c40-5648-40f5-a048-bf8dab4accf5",
   "metadata": {},
   "outputs": [
    {
     "name": "stdout",
     "output_type": "stream",
     "text": [
      "The area of a circle with radius 5 is 78.54\n"
     ]
    }
   ],
   "source": [
    "r = 5\n",
    "ac = area_circ(r)\n",
    "print('The area of a circle with radius {0} is {1:.2f}'.format(r, ac)) "
   ]
  },
  {
   "cell_type": "code",
   "execution_count": null,
   "id": "54c2313e-8536-4205-9b45-d1e15405547d",
   "metadata": {},
   "outputs": [],
   "source": []
  }
 ],
 "metadata": {
  "kernelspec": {
   "display_name": "Python 3 (ipykernel)",
   "language": "python",
   "name": "python3"
  },
  "language_info": {
   "codemirror_mode": {
    "name": "ipython",
    "version": 3
   },
   "file_extension": ".py",
   "mimetype": "text/x-python",
   "name": "python",
   "nbconvert_exporter": "python",
   "pygments_lexer": "ipython3",
   "version": "3.11.7"
  }
 },
 "nbformat": 4,
 "nbformat_minor": 5
}
