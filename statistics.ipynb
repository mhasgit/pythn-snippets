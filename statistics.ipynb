{
 "cells": [
  {
   "cell_type": "code",
   "execution_count": 1,
   "id": "ccc84291-dc90-444a-84bb-8bdc735289bf",
   "metadata": {},
   "outputs": [
    {
     "ename": "SyntaxError",
     "evalue": "closing parenthesis ']' does not match opening parenthesis '(' on line 3 (1116023919.py, line 7)",
     "output_type": "error",
     "traceback": [
      "\u001b[1;36m  Cell \u001b[1;32mIn[1], line 7\u001b[1;36m\u001b[0m\n\u001b[1;33m    [9, 10, 7.5]])\u001b[0m\n\u001b[1;37m                ^\u001b[0m\n\u001b[1;31mSyntaxError\u001b[0m\u001b[1;31m:\u001b[0m closing parenthesis ']' does not match opening parenthesis '(' on line 3\n"
     ]
    }
   ],
   "source": [
    "import numpy as np\n",
    "from scipy import stats\n",
    "marks = np.array([[8, 9 ,7],\n",
    "                  4.5, 6, 3.5],\n",
    "                 [8.5, 10, 9],\n",
    "                 [8, 6.5, 9.5],\n",
    "                 [9, 10, 7.5]])\n",
    "stats.mode(marks)\n",
    "\n",
    "ModeResult(mode=array([[ 8. , 10. , 3.5]]),\n",
    "           count=array([[2, 2, 1]])) "
   ]
  },
  {
   "cell_type": "code",
   "execution_count": null,
   "id": "80acffc5-c998-473b-abb2-84ce62031565",
   "metadata": {},
   "outputs": [],
   "source": []
  }
 ],
 "metadata": {
  "kernelspec": {
   "display_name": "Python 3 (ipykernel)",
   "language": "python",
   "name": "python3"
  },
  "language_info": {
   "codemirror_mode": {
    "name": "ipython",
    "version": 3
   },
   "file_extension": ".py",
   "mimetype": "text/x-python",
   "name": "python",
   "nbconvert_exporter": "python",
   "pygments_lexer": "ipython3",
   "version": "3.11.7"
  }
 },
 "nbformat": 4,
 "nbformat_minor": 5
}
