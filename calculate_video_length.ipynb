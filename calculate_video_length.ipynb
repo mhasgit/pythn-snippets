{
 "cells": [
  {
   "cell_type": "code",
   "execution_count": 3,
   "id": "7748033c-6279-4d6d-9fc5-4d681272512a",
   "metadata": {},
   "outputs": [
    {
     "name": "stdout",
     "output_type": "stream",
     "text": [
      "Total length of all videos: 31.89 hours\n"
     ]
    }
   ],
   "source": [
    "import os\n",
    "from moviepy.editor import VideoFileClip\n",
    "\n",
    "def get_video_length(file_path):\n",
    "    try:\n",
    "        with VideoFileClip(file_path) as video:\n",
    "            return video.duration\n",
    "    except Exception as e:\n",
    "        print(f\"Could not process file {file_path}: {e}\")\n",
    "        return 0\n",
    "\n",
    "def calculate_total_length(directory):\n",
    "    total_length = 0\n",
    "    for root, dirs, files in os.walk(directory):\n",
    "        for file in files:\n",
    "            if file.endswith('.mp4'):\n",
    "                file_path = os.path.join(root, file)\n",
    "                total_length += get_video_length(file_path)\n",
    "    return total_length\n",
    "\n",
    "# Specify the parent directory\n",
    "parent_directory = r'C:\\Users\\hassa\\Desktop\\PythonandDjangoFullStack'\n",
    "\n",
    "total_length_seconds = calculate_total_length(parent_directory)\n",
    "total_length_hours = total_length_seconds / 3600\n",
    "\n",
    "print(f\"Total length of all videos: {total_length_hours:.2f} hours\")"
   ]
  },
  {
   "cell_type": "code",
   "execution_count": null,
   "id": "ca6c14a5-afc5-490b-b5be-29f76edfaf1e",
   "metadata": {},
   "outputs": [],
   "source": []
  }
 ],
 "metadata": {
  "kernelspec": {
   "display_name": "Python 3 (ipykernel)",
   "language": "python",
   "name": "python3"
  },
  "language_info": {
   "codemirror_mode": {
    "name": "ipython",
    "version": 3
   },
   "file_extension": ".py",
   "mimetype": "text/x-python",
   "name": "python",
   "nbconvert_exporter": "python",
   "pygments_lexer": "ipython3",
   "version": "3.12.4"
  }
 },
 "nbformat": 4,
 "nbformat_minor": 5
}
