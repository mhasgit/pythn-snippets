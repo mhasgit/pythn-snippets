{
 "cells": [
  {
   "cell_type": "code",
   "execution_count": 6,
   "id": "f65a558f-1cb1-462e-9191-d83f0cc7b08d",
   "metadata": {},
   "outputs": [],
   "source": [
    "import numpy as np\n",
    "\n",
    "s = np.random.normal(size = 1500)\n",
    "b = np.arange(-4, 5)\n",
    "h = np.histogram(s, bins = b, density = True)[0]"
   ]
  },
  {
   "cell_type": "code",
   "execution_count": 8,
   "id": "323b6449-2849-477f-938e-968ae2365dcf",
   "metadata": {},
   "outputs": [],
   "source": [
    "bins = 0.5 * (b[1:] + b[:-1])\n",
    "from scipy import stats\n",
    "\n",
    "pdf = stats.norm.pdf(bins)"
   ]
  },
  {
   "cell_type": "code",
   "execution_count": 11,
   "id": "9a1d2d17-bb2d-4350-b780-4ff4953b42e3",
   "metadata": {},
   "outputs": [
    {
     "name": "stdout",
     "output_type": "stream",
     "text": [
      "[-3.5 -2.5 -1.5 -0.5  0.5  1.5  2.5  3.5]\n"
     ]
    }
   ],
   "source": [
    "print(bins)"
   ]
  },
  {
   "cell_type": "code",
   "execution_count": 12,
   "id": "75408358-e51d-46e2-ad2b-4809c9727119",
   "metadata": {},
   "outputs": [
    {
     "name": "stdout",
     "output_type": "stream",
     "text": [
      "-0.0049297475817221175 0.978518474272796\n"
     ]
    }
   ],
   "source": [
    "loc, std = stats.norm.fit(s)\n",
    "print(loc, std)"
   ]
  },
  {
   "cell_type": "code",
   "execution_count": 13,
   "id": "42f6d3f2-b6db-433e-9dda-f43ea43169e1",
   "metadata": {},
   "outputs": [
    {
     "data": {
      "text/plain": [
       "-0.0049297475817221175"
      ]
     },
     "execution_count": 13,
     "metadata": {},
     "output_type": "execute_result"
    }
   ],
   "source": [
    "np.mean(s)"
   ]
  },
  {
   "cell_type": "code",
   "execution_count": 14,
   "id": "48379fec-3e9d-4c5e-a447-1a5d24166a54",
   "metadata": {},
   "outputs": [
    {
     "data": {
      "text/plain": [
       "-0.027288248002864116"
      ]
     },
     "execution_count": 14,
     "metadata": {},
     "output_type": "execute_result"
    }
   ],
   "source": [
    "np.median(s)"
   ]
  },
  {
   "cell_type": "code",
   "execution_count": 16,
   "id": "0a7a2460-7dc9-4e69-b1ca-54227d4f9870",
   "metadata": {},
   "outputs": [],
   "source": [
    "import pandas as pd\n",
    "\n",
    "a1 = np.array([14,75, 90.55, 55.99, 25.7])\n",
    "s1 = pd.Series(a1)"
   ]
  },
  {
   "cell_type": "code",
   "execution_count": 17,
   "id": "21cfb254-bc16-405b-ac85-78e2325a02c4",
   "metadata": {},
   "outputs": [
    {
     "data": {
      "text/plain": [
       "pandas.core.series.Series"
      ]
     },
     "execution_count": 17,
     "metadata": {},
     "output_type": "execute_result"
    }
   ],
   "source": [
    "type(s1)"
   ]
  },
  {
   "cell_type": "code",
   "execution_count": 32,
   "id": "2c981d31-ddb3-4112-8335-8d3958b097bc",
   "metadata": {},
   "outputs": [],
   "source": [
    "names = ['Greater London', 'Tokyo', 'Paris', 'New York']\n",
    "\n",
    "population = [8663300, 9272565, 2229621, 8491079]\n",
    "\n",
    "area = [1572, 627, 105, 784]"
   ]
  },
  {
   "cell_type": "code",
   "execution_count": 33,
   "id": "da75bd14-3ba1-4c5a-8e18-3a9f0066074e",
   "metadata": {},
   "outputs": [],
   "source": [
    "df = pd.DataFrame({'cities': names, 'population': population, 'area': area})"
   ]
  },
  {
   "cell_type": "code",
   "execution_count": 34,
   "id": "18649ab4-b6a5-4ea7-b00a-9329bf6bc3bf",
   "metadata": {},
   "outputs": [
    {
     "data": {
      "text/plain": [
       "pandas.core.frame.DataFrame"
      ]
     },
     "execution_count": 34,
     "metadata": {},
     "output_type": "execute_result"
    }
   ],
   "source": [
    "type(df)"
   ]
  },
  {
   "cell_type": "raw",
   "id": "3823d992-4a8c-4694-af91-3a87584f2575",
   "metadata": {},
   "source": [
    "df.head(2)"
   ]
  },
  {
   "cell_type": "code",
   "execution_count": 35,
   "id": "ecb8246d-723f-4f56-8ef8-392986ac18ab",
   "metadata": {},
   "outputs": [
    {
     "data": {
      "text/html": [
       "<div>\n",
       "<style scoped>\n",
       "    .dataframe tbody tr th:only-of-type {\n",
       "        vertical-align: middle;\n",
       "    }\n",
       "\n",
       "    .dataframe tbody tr th {\n",
       "        vertical-align: top;\n",
       "    }\n",
       "\n",
       "    .dataframe thead th {\n",
       "        text-align: right;\n",
       "    }\n",
       "</style>\n",
       "<table border=\"1\" class=\"dataframe\">\n",
       "  <thead>\n",
       "    <tr style=\"text-align: right;\">\n",
       "      <th></th>\n",
       "      <th>cities</th>\n",
       "      <th>population</th>\n",
       "      <th>area</th>\n",
       "    </tr>\n",
       "  </thead>\n",
       "  <tbody>\n",
       "    <tr>\n",
       "      <th>2</th>\n",
       "      <td>Paris</td>\n",
       "      <td>2229621</td>\n",
       "      <td>105</td>\n",
       "    </tr>\n",
       "    <tr>\n",
       "      <th>3</th>\n",
       "      <td>New York</td>\n",
       "      <td>8491079</td>\n",
       "      <td>784</td>\n",
       "    </tr>\n",
       "  </tbody>\n",
       "</table>\n",
       "</div>"
      ],
      "text/plain": [
       "     cities  population  area\n",
       "2     Paris     2229621   105\n",
       "3  New York     8491079   784"
      ]
     },
     "execution_count": 35,
     "metadata": {},
     "output_type": "execute_result"
    }
   ],
   "source": [
    "df.tail(2)"
   ]
  },
  {
   "cell_type": "code",
   "execution_count": 36,
   "id": "a6b81a1d-601d-435e-85bc-d20a2b3fcb09",
   "metadata": {},
   "outputs": [
    {
     "data": {
      "text/plain": [
       "cities        object\n",
       "population     int64\n",
       "area           int64\n",
       "dtype: object"
      ]
     },
     "execution_count": 36,
     "metadata": {},
     "output_type": "execute_result"
    }
   ],
   "source": [
    "df.dtypes"
   ]
  },
  {
   "cell_type": "code",
   "execution_count": 37,
   "id": "57287977-0922-424b-bd04-e7845fef5d1b",
   "metadata": {},
   "outputs": [
    {
     "name": "stdout",
     "output_type": "stream",
     "text": [
      "<class 'pandas.core.frame.DataFrame'>\n",
      "RangeIndex: 4 entries, 0 to 3\n",
      "Data columns (total 3 columns):\n",
      " #   Column      Non-Null Count  Dtype \n",
      "---  ------      --------------  ----- \n",
      " 0   cities      4 non-null      object\n",
      " 1   population  4 non-null      int64 \n",
      " 2   area        4 non-null      int64 \n",
      "dtypes: int64(2), object(1)\n",
      "memory usage: 228.0+ bytes\n"
     ]
    }
   ],
   "source": [
    "df.info()"
   ]
  },
  {
   "cell_type": "code",
   "execution_count": 38,
   "id": "96696fd1-cf23-4dbd-b8bd-a2fee7c33afa",
   "metadata": {},
   "outputs": [
    {
     "data": {
      "text/plain": [
       "Index(['cities', 'population', 'area'], dtype='object')"
      ]
     },
     "execution_count": 38,
     "metadata": {},
     "output_type": "execute_result"
    }
   ],
   "source": [
    "df.columns"
   ]
  },
  {
   "cell_type": "code",
   "execution_count": 39,
   "id": "72d5eb02-9f63-437e-a152-c0e4ec12db70",
   "metadata": {},
   "outputs": [
    {
     "data": {
      "text/plain": [
       "2    2229621\n",
       "3    8491079\n",
       "Name: population, dtype: int64"
      ]
     },
     "execution_count": 39,
     "metadata": {},
     "output_type": "execute_result"
    }
   ],
   "source": [
    "df['population'][2:4]"
   ]
  },
  {
   "cell_type": "code",
   "execution_count": 40,
   "id": "747feeaf-b332-4aa4-b1af-246538b9979b",
   "metadata": {},
   "outputs": [
    {
     "data": {
      "text/html": [
       "<div>\n",
       "<style scoped>\n",
       "    .dataframe tbody tr th:only-of-type {\n",
       "        vertical-align: middle;\n",
       "    }\n",
       "\n",
       "    .dataframe tbody tr th {\n",
       "        vertical-align: top;\n",
       "    }\n",
       "\n",
       "    .dataframe thead th {\n",
       "        text-align: right;\n",
       "    }\n",
       "</style>\n",
       "<table border=\"1\" class=\"dataframe\">\n",
       "  <thead>\n",
       "    <tr style=\"text-align: right;\">\n",
       "      <th></th>\n",
       "      <th>cities</th>\n",
       "      <th>area</th>\n",
       "    </tr>\n",
       "  </thead>\n",
       "  <tbody>\n",
       "    <tr>\n",
       "      <th>0</th>\n",
       "      <td>Greater London</td>\n",
       "      <td>1572</td>\n",
       "    </tr>\n",
       "  </tbody>\n",
       "</table>\n",
       "</div>"
      ],
      "text/plain": [
       "           cities  area\n",
       "0  Greater London  1572"
      ]
     },
     "execution_count": 40,
     "metadata": {},
     "output_type": "execute_result"
    }
   ],
   "source": [
    "df[['cities', 'area']][0:1]"
   ]
  },
  {
   "cell_type": "code",
   "execution_count": 41,
   "id": "eee61e50-3665-4333-ac34-f969fd0d2153",
   "metadata": {},
   "outputs": [],
   "source": [
    "df.set_index('cities', inplace=True)"
   ]
  },
  {
   "cell_type": "code",
   "execution_count": 42,
   "id": "c522fecc-576f-46a1-952b-a21847cbf66f",
   "metadata": {},
   "outputs": [
    {
     "data": {
      "text/plain": [
       "population    9272565\n",
       "area              627\n",
       "Name: Tokyo, dtype: int64"
      ]
     },
     "execution_count": 42,
     "metadata": {},
     "output_type": "execute_result"
    }
   ],
   "source": [
    "df.loc['Tokyo']"
   ]
  },
  {
   "cell_type": "code",
   "execution_count": 43,
   "id": "8664d772-38f5-426b-9864-a6ddb67e4927",
   "metadata": {},
   "outputs": [
    {
     "data": {
      "text/plain": [
       "8663300"
      ]
     },
     "execution_count": 43,
     "metadata": {},
     "output_type": "execute_result"
    }
   ],
   "source": [
    "df.loc['Greater London', 'population']"
   ]
  },
  {
   "cell_type": "code",
   "execution_count": 44,
   "id": "914deaaa-2eac-468c-a1cb-637029b15d84",
   "metadata": {},
   "outputs": [
    {
     "data": {
      "text/html": [
       "<div>\n",
       "<style scoped>\n",
       "    .dataframe tbody tr th:only-of-type {\n",
       "        vertical-align: middle;\n",
       "    }\n",
       "\n",
       "    .dataframe tbody tr th {\n",
       "        vertical-align: top;\n",
       "    }\n",
       "\n",
       "    .dataframe thead th {\n",
       "        text-align: right;\n",
       "    }\n",
       "</style>\n",
       "<table border=\"1\" class=\"dataframe\">\n",
       "  <thead>\n",
       "    <tr style=\"text-align: right;\">\n",
       "      <th></th>\n",
       "      <th>population</th>\n",
       "      <th>area</th>\n",
       "    </tr>\n",
       "  </thead>\n",
       "  <tbody>\n",
       "    <tr>\n",
       "      <th>count</th>\n",
       "      <td>4.000000e+00</td>\n",
       "      <td>4.000000</td>\n",
       "    </tr>\n",
       "    <tr>\n",
       "      <th>mean</th>\n",
       "      <td>7.164141e+06</td>\n",
       "      <td>772.000000</td>\n",
       "    </tr>\n",
       "    <tr>\n",
       "      <th>std</th>\n",
       "      <td>3.306720e+06</td>\n",
       "      <td>607.195191</td>\n",
       "    </tr>\n",
       "    <tr>\n",
       "      <th>min</th>\n",
       "      <td>2.229621e+06</td>\n",
       "      <td>105.000000</td>\n",
       "    </tr>\n",
       "    <tr>\n",
       "      <th>25%</th>\n",
       "      <td>6.925714e+06</td>\n",
       "      <td>496.500000</td>\n",
       "    </tr>\n",
       "    <tr>\n",
       "      <th>50%</th>\n",
       "      <td>8.577190e+06</td>\n",
       "      <td>705.500000</td>\n",
       "    </tr>\n",
       "    <tr>\n",
       "      <th>75%</th>\n",
       "      <td>8.815616e+06</td>\n",
       "      <td>981.000000</td>\n",
       "    </tr>\n",
       "    <tr>\n",
       "      <th>max</th>\n",
       "      <td>9.272565e+06</td>\n",
       "      <td>1572.000000</td>\n",
       "    </tr>\n",
       "  </tbody>\n",
       "</table>\n",
       "</div>"
      ],
      "text/plain": [
       "         population         area\n",
       "count  4.000000e+00     4.000000\n",
       "mean   7.164141e+06   772.000000\n",
       "std    3.306720e+06   607.195191\n",
       "min    2.229621e+06   105.000000\n",
       "25%    6.925714e+06   496.500000\n",
       "50%    8.577190e+06   705.500000\n",
       "75%    8.815616e+06   981.000000\n",
       "max    9.272565e+06  1572.000000"
      ]
     },
     "execution_count": 44,
     "metadata": {},
     "output_type": "execute_result"
    }
   ],
   "source": [
    "df.describe()"
   ]
  },
  {
   "cell_type": "code",
   "execution_count": 45,
   "id": "aede7ca5-be45-49c5-90b1-92732a812846",
   "metadata": {},
   "outputs": [],
   "source": [
    "df['pop_density'] = df['population']/df['area']"
   ]
  },
  {
   "cell_type": "code",
   "execution_count": 46,
   "id": "9fc4c7b6-a42e-4cad-8e30-2f0d5f10d17d",
   "metadata": {},
   "outputs": [
    {
     "data": {
      "text/html": [
       "<div>\n",
       "<style scoped>\n",
       "    .dataframe tbody tr th:only-of-type {\n",
       "        vertical-align: middle;\n",
       "    }\n",
       "\n",
       "    .dataframe tbody tr th {\n",
       "        vertical-align: top;\n",
       "    }\n",
       "\n",
       "    .dataframe thead th {\n",
       "        text-align: right;\n",
       "    }\n",
       "</style>\n",
       "<table border=\"1\" class=\"dataframe\">\n",
       "  <thead>\n",
       "    <tr style=\"text-align: right;\">\n",
       "      <th></th>\n",
       "      <th>population</th>\n",
       "      <th>area</th>\n",
       "      <th>pop_density</th>\n",
       "    </tr>\n",
       "    <tr>\n",
       "      <th>cities</th>\n",
       "      <th></th>\n",
       "      <th></th>\n",
       "      <th></th>\n",
       "    </tr>\n",
       "  </thead>\n",
       "  <tbody>\n",
       "    <tr>\n",
       "      <th>Greater London</th>\n",
       "      <td>8663300</td>\n",
       "      <td>1572</td>\n",
       "      <td>5511.005089</td>\n",
       "    </tr>\n",
       "    <tr>\n",
       "      <th>Tokyo</th>\n",
       "      <td>9272565</td>\n",
       "      <td>627</td>\n",
       "      <td>14788.779904</td>\n",
       "    </tr>\n",
       "    <tr>\n",
       "      <th>Paris</th>\n",
       "      <td>2229621</td>\n",
       "      <td>105</td>\n",
       "      <td>21234.485714</td>\n",
       "    </tr>\n",
       "    <tr>\n",
       "      <th>New York</th>\n",
       "      <td>8491079</td>\n",
       "      <td>784</td>\n",
       "      <td>10830.457908</td>\n",
       "    </tr>\n",
       "  </tbody>\n",
       "</table>\n",
       "</div>"
      ],
      "text/plain": [
       "                population  area   pop_density\n",
       "cities                                        \n",
       "Greater London     8663300  1572   5511.005089\n",
       "Tokyo              9272565   627  14788.779904\n",
       "Paris              2229621   105  21234.485714\n",
       "New York           8491079   784  10830.457908"
      ]
     },
     "execution_count": 46,
     "metadata": {},
     "output_type": "execute_result"
    }
   ],
   "source": [
    "df"
   ]
  },
  {
   "cell_type": "code",
   "execution_count": 13,
   "id": "5f6c7b91-f366-423b-9da0-d0173bc99889",
   "metadata": {},
   "outputs": [
    {
     "data": {
      "text/html": [
       "<div>\n",
       "<style scoped>\n",
       "    .dataframe tbody tr th:only-of-type {\n",
       "        vertical-align: middle;\n",
       "    }\n",
       "\n",
       "    .dataframe tbody tr th {\n",
       "        vertical-align: top;\n",
       "    }\n",
       "\n",
       "    .dataframe thead th {\n",
       "        text-align: right;\n",
       "    }\n",
       "</style>\n",
       "<table border=\"1\" class=\"dataframe\">\n",
       "  <thead>\n",
       "    <tr style=\"text-align: right;\">\n",
       "      <th></th>\n",
       "      <th>City</th>\n",
       "      <th>Country</th>\n",
       "      <th>Population</th>\n",
       "      <th>Inland area in km2</th>\n",
       "      <th>Density in people per hectare</th>\n",
       "      <th>Dwellings</th>\n",
       "      <th>Density in dwellings per hectare</th>\n",
       "      <th>People per dwelling</th>\n",
       "      <th>Approx city radius km</th>\n",
       "      <th>Main topographical constraint</th>\n",
       "      <th>Constraint</th>\n",
       "    </tr>\n",
       "  </thead>\n",
       "  <tbody>\n",
       "    <tr>\n",
       "      <th>0</th>\n",
       "      <td>NaN</td>\n",
       "      <td>NaN</td>\n",
       "      <td>NaN</td>\n",
       "      <td>NaN</td>\n",
       "      <td>NaN</td>\n",
       "      <td>NaN</td>\n",
       "      <td>NaN</td>\n",
       "      <td>NaN</td>\n",
       "      <td>NaN</td>\n",
       "      <td>NaN</td>\n",
       "      <td>NaN</td>\n",
       "    </tr>\n",
       "    <tr>\n",
       "      <th>1</th>\n",
       "      <td>Greater London</td>\n",
       "      <td>England</td>\n",
       "      <td>8,663,300</td>\n",
       "      <td>1,572</td>\n",
       "      <td>55.0</td>\n",
       "      <td>3,454,490</td>\n",
       "      <td>22.0</td>\n",
       "      <td>2.5</td>\n",
       "      <td>23.0</td>\n",
       "      <td>Rivers</td>\n",
       "      <td>4%</td>\n",
       "    </tr>\n",
       "    <tr>\n",
       "      <th>2</th>\n",
       "      <td>Inner London</td>\n",
       "      <td>England</td>\n",
       "      <td>3,439,700</td>\n",
       "      <td>319</td>\n",
       "      <td>108.0</td>\n",
       "      <td>1,460,840</td>\n",
       "      <td>46.0</td>\n",
       "      <td>2.4</td>\n",
       "      <td>10.0</td>\n",
       "      <td>Rivers</td>\n",
       "      <td>5%</td>\n",
       "    </tr>\n",
       "  </tbody>\n",
       "</table>\n",
       "</div>"
      ],
      "text/plain": [
       "              City   Country Population Inland area in km2  \\\n",
       "0              NaN       NaN        NaN                NaN   \n",
       "1  Greater London   England   8,663,300              1,572   \n",
       "2    Inner London   England   3,439,700                319   \n",
       "\n",
       "   Density in people per hectare  Dwellings  Density in dwellings per hectare  \\\n",
       "0                            NaN        NaN                               NaN   \n",
       "1                           55.0  3,454,490                              22.0   \n",
       "2                          108.0  1,460,840                              46.0   \n",
       "\n",
       "   People per dwelling  Approx city radius km Main topographical constraint  \\\n",
       "0                  NaN                    NaN                           NaN   \n",
       "1                  2.5                   23.0                       Rivers    \n",
       "2                  2.4                   10.0                       Rivers    \n",
       "\n",
       "  Constraint  \n",
       "0        NaN  \n",
       "1         4%  \n",
       "2         5%  "
      ]
     },
     "execution_count": 13,
     "metadata": {},
     "output_type": "execute_result"
    }
   ],
   "source": [
    "import pandas as pd\n",
    "gla_cities = pd.read_csv('GLA_World_Cities_2016.csv')\n",
    "gla_cities.head(3)"
   ]
  },
  {
   "cell_type": "code",
   "execution_count": 45,
   "id": "742ab71c-084d-4923-865c-9b360f20d623",
   "metadata": {},
   "outputs": [
    {
     "data": {
      "text/plain": [
       "Index(['City', 'Country', 'Population', 'Area km2',\n",
       "       'Density in people per hectare', 'Dwellings',\n",
       "       'Density in dwellings per hectare', 'People per dwelling',\n",
       "       'Approx city radius km', 'Main topographical constraint', 'Constraint'],\n",
       "      dtype='object')"
      ]
     },
     "execution_count": 45,
     "metadata": {},
     "output_type": "execute_result"
    }
   ],
   "source": [
    "renamecols = {'Inland area in km2': 'Area km2'}\n",
    "\n",
    "gla_cities.rename(columns = renamecols, inplace = True)\n",
    "gla_cities.columns"
   ]
  },
  {
   "cell_type": "code",
   "execution_count": 46,
   "id": "e226747b-c9b8-49ac-8048-0352321f516a",
   "metadata": {},
   "outputs": [
    {
     "data": {
      "text/html": [
       "<div>\n",
       "<style scoped>\n",
       "    .dataframe tbody tr th:only-of-type {\n",
       "        vertical-align: middle;\n",
       "    }\n",
       "\n",
       "    .dataframe tbody tr th {\n",
       "        vertical-align: top;\n",
       "    }\n",
       "\n",
       "    .dataframe thead th {\n",
       "        text-align: right;\n",
       "    }\n",
       "</style>\n",
       "<table border=\"1\" class=\"dataframe\">\n",
       "  <thead>\n",
       "    <tr style=\"text-align: right;\">\n",
       "      <th></th>\n",
       "      <th>City</th>\n",
       "      <th>Country</th>\n",
       "      <th>Population</th>\n",
       "      <th>Area km2</th>\n",
       "      <th>Density in people per hectare</th>\n",
       "      <th>Dwellings</th>\n",
       "      <th>Density in dwellings per hectare</th>\n",
       "      <th>People per dwelling</th>\n",
       "      <th>Approx city radius km</th>\n",
       "      <th>Main topographical constraint</th>\n",
       "      <th>Constraint</th>\n",
       "    </tr>\n",
       "  </thead>\n",
       "  <tbody>\n",
       "    <tr>\n",
       "      <th>1</th>\n",
       "      <td>Greater London</td>\n",
       "      <td>England</td>\n",
       "      <td>8663300.0</td>\n",
       "      <td>1572.0</td>\n",
       "      <td>55.0</td>\n",
       "      <td>3454490.0</td>\n",
       "      <td>22.0</td>\n",
       "      <td>2.5</td>\n",
       "      <td>23.0</td>\n",
       "      <td>Rivers</td>\n",
       "      <td>4%</td>\n",
       "    </tr>\n",
       "    <tr>\n",
       "      <th>2</th>\n",
       "      <td>Inner London</td>\n",
       "      <td>England</td>\n",
       "      <td>3439700.0</td>\n",
       "      <td>319.0</td>\n",
       "      <td>108.0</td>\n",
       "      <td>1460840.0</td>\n",
       "      <td>46.0</td>\n",
       "      <td>2.4</td>\n",
       "      <td>10.0</td>\n",
       "      <td>Rivers</td>\n",
       "      <td>5%</td>\n",
       "    </tr>\n",
       "    <tr>\n",
       "      <th>3</th>\n",
       "      <td>Outer London</td>\n",
       "      <td>England</td>\n",
       "      <td>5223500.0</td>\n",
       "      <td>1254.0</td>\n",
       "      <td>42.0</td>\n",
       "      <td>1993660.0</td>\n",
       "      <td>16.0</td>\n",
       "      <td>2.6</td>\n",
       "      <td>NaN</td>\n",
       "      <td>NaN</td>\n",
       "      <td>NaN</td>\n",
       "    </tr>\n",
       "  </tbody>\n",
       "</table>\n",
       "</div>"
      ],
      "text/plain": [
       "              City   Country  Population  Area km2  \\\n",
       "1  Greater London   England    8663300.0    1572.0   \n",
       "2    Inner London   England    3439700.0     319.0   \n",
       "3    Outer London   England    5223500.0    1254.0   \n",
       "\n",
       "   Density in people per hectare  Dwellings  Density in dwellings per hectare  \\\n",
       "1                           55.0  3454490.0                              22.0   \n",
       "2                          108.0  1460840.0                              46.0   \n",
       "3                           42.0  1993660.0                              16.0   \n",
       "\n",
       "   People per dwelling  Approx city radius km Main topographical constraint  \\\n",
       "1                  2.5                   23.0                       Rivers    \n",
       "2                  2.4                   10.0                       Rivers    \n",
       "3                  2.6                    NaN                           NaN   \n",
       "\n",
       "  Constraint  \n",
       "1         4%  \n",
       "2         5%  \n",
       "3        NaN  "
      ]
     },
     "execution_count": 46,
     "metadata": {},
     "output_type": "execute_result"
    }
   ],
   "source": [
    "gla_cities.head(3)"
   ]
  },
  {
   "cell_type": "code",
   "execution_count": 47,
   "id": "6dfb0fc9-026d-40da-b47a-d6a9982fe98e",
   "metadata": {},
   "outputs": [],
   "source": [
    "gla_cities.dropna(how='all', inplace=True)"
   ]
  },
  {
   "cell_type": "code",
   "execution_count": 48,
   "id": "35c8bd49-c869-4607-b49d-b2606d3335ca",
   "metadata": {},
   "outputs": [
    {
     "data": {
      "text/plain": [
       "(17, 11)"
      ]
     },
     "execution_count": 48,
     "metadata": {},
     "output_type": "execute_result"
    }
   ],
   "source": [
    "gla_cities.shape"
   ]
  },
  {
   "cell_type": "code",
   "execution_count": 77,
   "id": "652bbda6-a548-4479-901a-a32a9490dfe2",
   "metadata": {},
   "outputs": [],
   "source": [
    "gla_cities['pop_density'] = \\\n",
    "gla_cities['Population'] / gla_cities['Area km2']"
   ]
  },
  {
   "cell_type": "code",
   "execution_count": 51,
   "id": "dab32e26-127b-43df-bb77-974e41ddf88f",
   "metadata": {},
   "outputs": [],
   "source": [
    "gla_cities['Population'] = gla_cities['Population'].astype(str)\n",
    "\n",
    "gla_cities['Population'] = gla_cities['Population'].str.replace(',', '').astype(float)"
   ]
  },
  {
   "cell_type": "code",
   "execution_count": 52,
   "id": "e7c20392-720a-46af-8d9c-4e89e8418bb9",
   "metadata": {},
   "outputs": [
    {
     "data": {
      "text/plain": [
       "1     8663300.0\n",
       "2     3439700.0\n",
       "3     5223500.0\n",
       "4     2229621.0\n",
       "5      500715.0\n",
       "6     3469849.0\n",
       "7     3141991.0\n",
       "8     1604555.0\n",
       "9      693878.0\n",
       "10    8491079.0\n",
       "11    2722389.0\n",
       "12     617594.0\n",
       "13    6476631.0\n",
       "14    2375151.0\n",
       "15    3902710.0\n",
       "16    9272565.0\n",
       "17    2691742.0\n",
       "Name: Population, dtype: float64"
      ]
     },
     "execution_count": 52,
     "metadata": {},
     "output_type": "execute_result"
    }
   ],
   "source": [
    "gla_cities['Population']"
   ]
  },
  {
   "cell_type": "code",
   "execution_count": 63,
   "id": "23671b26-3c76-444a-ba91-31ef538528b6",
   "metadata": {},
   "outputs": [
    {
     "data": {
      "text/plain": [
       "1     1572.0\n",
       "2      319.0\n",
       "3     1254.0\n",
       "4      105.0\n",
       "5       48.0\n",
       "6      892.0\n",
       "7      606.0\n",
       "8       98.0\n",
       "9      141.0\n",
       "10     784.0\n",
       "11     590.0\n",
       "12     125.0\n",
       "13    1200.0\n",
       "14     331.0\n",
       "15     666.0\n",
       "16     627.0\n",
       "17     225.0\n",
       "Name: Area km2, dtype: float64"
      ]
     },
     "execution_count": 63,
     "metadata": {},
     "output_type": "execute_result"
    }
   ],
   "source": [
    "gla_cities['Area km2'] = gla_cities['Area km2'].astype(str)\n",
    "\n",
    "gla_cities['Area km2'] = gla_cities['Area km2'].str.replace(',', '').astype(float)\n",
    "gla_cities['Area km2']"
   ]
  },
  {
   "cell_type": "code",
   "execution_count": 61,
   "id": "2bfe5f97-6ad0-4d67-81b9-c550c95aa93e",
   "metadata": {},
   "outputs": [
    {
     "data": {
      "text/plain": [
       "1    3454490.0\n",
       "2    1460840.0\n",
       "Name: Dwellings, dtype: float64"
      ]
     },
     "execution_count": 61,
     "metadata": {},
     "output_type": "execute_result"
    }
   ],
   "source": [
    "gla_cities['Dwellings'] = gla_cities['Dwellings'].astype(str)\n",
    "gla_cities['Dwellings'] = gla_cities['Dwellings'].str.replace(',', '').astype(float)\n",
    "gla_cities['Dwellings'].head(2)"
   ]
  },
  {
   "cell_type": "code",
   "execution_count": 59,
   "id": "18d192b6-aada-4afa-89e8-f4dc225cc135",
   "metadata": {},
   "outputs": [
    {
     "data": {
      "text/plain": [
       "1     5511.005089\n",
       "2    10782.758621\n",
       "3     4165.470494\n",
       "Name: pop_density, dtype: float64"
      ]
     },
     "execution_count": 59,
     "metadata": {},
     "output_type": "execute_result"
    }
   ],
   "source": [
    "gla_cities['pop_density'] = \\\n",
    "gla_cities['Population'] / gla_cities['Area km2']\n",
    "gla_cities['pop_density'].head(3)"
   ]
  },
  {
   "cell_type": "code",
   "execution_count": 69,
   "id": "602154bb-7b1c-4521-9693-55ba8c042e03",
   "metadata": {},
   "outputs": [],
   "source": [
    "def city_size(x):\n",
    "    \n",
    "    if x < 1.5:\n",
    "        s = 'Small'\n",
    "    elif 1.5 <= x < 5:\n",
    "        s = 'Medium'\n",
    "    elif 3 <= x < 5:\n",
    "        s = 'Large'\n",
    "    else:\n",
    "        s = 'Mega'\n",
    "    return s"
   ]
  },
  {
   "cell_type": "code",
   "execution_count": 76,
   "id": "e794814e-5f04-4749-a590-1e869b487643",
   "metadata": {},
   "outputs": [],
   "source": [
    "gla_cities['City Size'] = \\\n",
    "gla_cities['Population'].apply(city_size)"
   ]
  },
  {
   "cell_type": "code",
   "execution_count": 74,
   "id": "2481a4d3-44d6-4db5-938f-dccf16675cc3",
   "metadata": {},
   "outputs": [
    {
     "data": {
      "text/html": [
       "<div>\n",
       "<style scoped>\n",
       "    .dataframe tbody tr th:only-of-type {\n",
       "        vertical-align: middle;\n",
       "    }\n",
       "\n",
       "    .dataframe tbody tr th {\n",
       "        vertical-align: top;\n",
       "    }\n",
       "\n",
       "    .dataframe thead th {\n",
       "        text-align: right;\n",
       "    }\n",
       "</style>\n",
       "<table border=\"1\" class=\"dataframe\">\n",
       "  <thead>\n",
       "    <tr style=\"text-align: right;\">\n",
       "      <th></th>\n",
       "      <th>City</th>\n",
       "      <th>Country</th>\n",
       "      <th>Population</th>\n",
       "      <th>Area km2</th>\n",
       "      <th>Density in people per hectare</th>\n",
       "      <th>Dwellings</th>\n",
       "      <th>Density in dwellings per hectare</th>\n",
       "      <th>People per dwelling</th>\n",
       "      <th>Approx city radius km</th>\n",
       "      <th>Main topographical constraint</th>\n",
       "      <th>Constraint</th>\n",
       "      <th>pop_density</th>\n",
       "      <th>City Size</th>\n",
       "    </tr>\n",
       "  </thead>\n",
       "  <tbody>\n",
       "  </tbody>\n",
       "</table>\n",
       "</div>"
      ],
      "text/plain": [
       "Empty DataFrame\n",
       "Columns: [City, Country, Population, Area km2, Density in people per hectare, Dwellings, Density in dwellings per hectare, People per dwelling, Approx city radius km, Main topographical constraint, Constraint, pop_density, City Size]\n",
       "Index: []"
      ]
     },
     "execution_count": 74,
     "metadata": {},
     "output_type": "execute_result"
    }
   ],
   "source": [
    "gla_cities[gla_cities['City Size'] == 'Small']"
   ]
  },
  {
   "cell_type": "code",
   "execution_count": null,
   "id": "6b131d4f-e02e-4835-bc2c-2bccf29d0302",
   "metadata": {},
   "outputs": [],
   "source": []
  }
 ],
 "metadata": {
  "kernelspec": {
   "display_name": "Python 3 (ipykernel)",
   "language": "python",
   "name": "python3"
  },
  "language_info": {
   "codemirror_mode": {
    "name": "ipython",
    "version": 3
   },
   "file_extension": ".py",
   "mimetype": "text/x-python",
   "name": "python",
   "nbconvert_exporter": "python",
   "pygments_lexer": "ipython3",
   "version": "3.11.7"
  }
 },
 "nbformat": 4,
 "nbformat_minor": 5
}
