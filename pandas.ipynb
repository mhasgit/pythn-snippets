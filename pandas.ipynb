{
 "cells": [
  {
   "cell_type": "code",
   "execution_count": 6,
   "id": "f65a558f-1cb1-462e-9191-d83f0cc7b08d",
   "metadata": {},
   "outputs": [],
   "source": [
    "import numpy as np\n",
    "\n",
    "s = np.random.normal(size = 1500)\n",
    "b = np.arange(-4, 5)\n",
    "h = np.histogram(s, bins = b, density = True)[0]"
   ]
  },
  {
   "cell_type": "code",
   "execution_count": 8,
   "id": "323b6449-2849-477f-938e-968ae2365dcf",
   "metadata": {},
   "outputs": [],
   "source": [
    "bins = 0.5 * (b[1:] + b[:-1])\n",
    "from scipy import stats\n",
    "\n",
    "pdf = stats.norm.pdf(bins)"
   ]
  },
  {
   "cell_type": "code",
   "execution_count": 11,
   "id": "9a1d2d17-bb2d-4350-b780-4ff4953b42e3",
   "metadata": {},
   "outputs": [
    {
     "name": "stdout",
     "output_type": "stream",
     "text": [
      "[-3.5 -2.5 -1.5 -0.5  0.5  1.5  2.5  3.5]\n"
     ]
    }
   ],
   "source": [
    "print(bins)"
   ]
  },
  {
   "cell_type": "code",
   "execution_count": 12,
   "id": "75408358-e51d-46e2-ad2b-4809c9727119",
   "metadata": {},
   "outputs": [
    {
     "name": "stdout",
     "output_type": "stream",
     "text": [
      "-0.0049297475817221175 0.978518474272796\n"
     ]
    }
   ],
   "source": [
    "loc, std = stats.norm.fit(s)\n",
    "print(loc, std)"
   ]
  },
  {
   "cell_type": "code",
   "execution_count": 13,
   "id": "42f6d3f2-b6db-433e-9dda-f43ea43169e1",
   "metadata": {},
   "outputs": [
    {
     "data": {
      "text/plain": [
       "-0.0049297475817221175"
      ]
     },
     "execution_count": 13,
     "metadata": {},
     "output_type": "execute_result"
    }
   ],
   "source": [
    "np.mean(s)"
   ]
  },
  {
   "cell_type": "code",
   "execution_count": 14,
   "id": "48379fec-3e9d-4c5e-a447-1a5d24166a54",
   "metadata": {},
   "outputs": [
    {
     "data": {
      "text/plain": [
       "-0.027288248002864116"
      ]
     },
     "execution_count": 14,
     "metadata": {},
     "output_type": "execute_result"
    }
   ],
   "source": [
    "np.median(s)"
   ]
  },
  {
   "cell_type": "code",
   "execution_count": 16,
   "id": "0a7a2460-7dc9-4e69-b1ca-54227d4f9870",
   "metadata": {},
   "outputs": [],
   "source": [
    "import pandas as pd\n",
    "\n",
    "a1 = np.array([14,75, 90.55, 55.99, 25.7])\n",
    "s1 = pd.Series(a1)"
   ]
  },
  {
   "cell_type": "code",
   "execution_count": 17,
   "id": "21cfb254-bc16-405b-ac85-78e2325a02c4",
   "metadata": {},
   "outputs": [
    {
     "data": {
      "text/plain": [
       "pandas.core.series.Series"
      ]
     },
     "execution_count": 17,
     "metadata": {},
     "output_type": "execute_result"
    }
   ],
   "source": [
    "type(s1)"
   ]
  },
  {
   "cell_type": "code",
   "execution_count": 32,
   "id": "2c981d31-ddb3-4112-8335-8d3958b097bc",
   "metadata": {},
   "outputs": [],
   "source": [
    "names = ['Greater London', 'Tokyo', 'Paris', 'New York']\n",
    "\n",
    "population = [8663300, 9272565, 2229621, 8491079]\n",
    "\n",
    "area = [1572, 627, 105, 784]"
   ]
  },
  {
   "cell_type": "code",
   "execution_count": 33,
   "id": "da75bd14-3ba1-4c5a-8e18-3a9f0066074e",
   "metadata": {},
   "outputs": [],
   "source": [
    "df = pd.DataFrame({'cities': names, 'population': population, 'area': area})"
   ]
  },
  {
   "cell_type": "code",
   "execution_count": 34,
   "id": "18649ab4-b6a5-4ea7-b00a-9329bf6bc3bf",
   "metadata": {},
   "outputs": [
    {
     "data": {
      "text/plain": [
       "pandas.core.frame.DataFrame"
      ]
     },
     "execution_count": 34,
     "metadata": {},
     "output_type": "execute_result"
    }
   ],
   "source": [
    "type(df)"
   ]
  },
  {
   "cell_type": "raw",
   "id": "3823d992-4a8c-4694-af91-3a87584f2575",
   "metadata": {},
   "source": [
    "df.head(2)"
   ]
  },
  {
   "cell_type": "code",
   "execution_count": 35,
   "id": "ecb8246d-723f-4f56-8ef8-392986ac18ab",
   "metadata": {},
   "outputs": [
    {
     "data": {
      "text/html": [
       "<div>\n",
       "<style scoped>\n",
       "    .dataframe tbody tr th:only-of-type {\n",
       "        vertical-align: middle;\n",
       "    }\n",
       "\n",
       "    .dataframe tbody tr th {\n",
       "        vertical-align: top;\n",
       "    }\n",
       "\n",
       "    .dataframe thead th {\n",
       "        text-align: right;\n",
       "    }\n",
       "</style>\n",
       "<table border=\"1\" class=\"dataframe\">\n",
       "  <thead>\n",
       "    <tr style=\"text-align: right;\">\n",
       "      <th></th>\n",
       "      <th>cities</th>\n",
       "      <th>population</th>\n",
       "      <th>area</th>\n",
       "    </tr>\n",
       "  </thead>\n",
       "  <tbody>\n",
       "    <tr>\n",
       "      <th>2</th>\n",
       "      <td>Paris</td>\n",
       "      <td>2229621</td>\n",
       "      <td>105</td>\n",
       "    </tr>\n",
       "    <tr>\n",
       "      <th>3</th>\n",
       "      <td>New York</td>\n",
       "      <td>8491079</td>\n",
       "      <td>784</td>\n",
       "    </tr>\n",
       "  </tbody>\n",
       "</table>\n",
       "</div>"
      ],
      "text/plain": [
       "     cities  population  area\n",
       "2     Paris     2229621   105\n",
       "3  New York     8491079   784"
      ]
     },
     "execution_count": 35,
     "metadata": {},
     "output_type": "execute_result"
    }
   ],
   "source": [
    "df.tail(2)"
   ]
  },
  {
   "cell_type": "code",
   "execution_count": 36,
   "id": "a6b81a1d-601d-435e-85bc-d20a2b3fcb09",
   "metadata": {},
   "outputs": [
    {
     "data": {
      "text/plain": [
       "cities        object\n",
       "population     int64\n",
       "area           int64\n",
       "dtype: object"
      ]
     },
     "execution_count": 36,
     "metadata": {},
     "output_type": "execute_result"
    }
   ],
   "source": [
    "df.dtypes"
   ]
  },
  {
   "cell_type": "code",
   "execution_count": 37,
   "id": "57287977-0922-424b-bd04-e7845fef5d1b",
   "metadata": {},
   "outputs": [
    {
     "name": "stdout",
     "output_type": "stream",
     "text": [
      "<class 'pandas.core.frame.DataFrame'>\n",
      "RangeIndex: 4 entries, 0 to 3\n",
      "Data columns (total 3 columns):\n",
      " #   Column      Non-Null Count  Dtype \n",
      "---  ------      --------------  ----- \n",
      " 0   cities      4 non-null      object\n",
      " 1   population  4 non-null      int64 \n",
      " 2   area        4 non-null      int64 \n",
      "dtypes: int64(2), object(1)\n",
      "memory usage: 228.0+ bytes\n"
     ]
    }
   ],
   "source": [
    "df.info()"
   ]
  },
  {
   "cell_type": "code",
   "execution_count": 38,
   "id": "96696fd1-cf23-4dbd-b8bd-a2fee7c33afa",
   "metadata": {},
   "outputs": [
    {
     "data": {
      "text/plain": [
       "Index(['cities', 'population', 'area'], dtype='object')"
      ]
     },
     "execution_count": 38,
     "metadata": {},
     "output_type": "execute_result"
    }
   ],
   "source": [
    "df.columns"
   ]
  },
  {
   "cell_type": "code",
   "execution_count": 39,
   "id": "72d5eb02-9f63-437e-a152-c0e4ec12db70",
   "metadata": {},
   "outputs": [
    {
     "data": {
      "text/plain": [
       "2    2229621\n",
       "3    8491079\n",
       "Name: population, dtype: int64"
      ]
     },
     "execution_count": 39,
     "metadata": {},
     "output_type": "execute_result"
    }
   ],
   "source": [
    "df['population'][2:4]"
   ]
  },
  {
   "cell_type": "code",
   "execution_count": 40,
   "id": "747feeaf-b332-4aa4-b1af-246538b9979b",
   "metadata": {},
   "outputs": [
    {
     "data": {
      "text/html": [
       "<div>\n",
       "<style scoped>\n",
       "    .dataframe tbody tr th:only-of-type {\n",
       "        vertical-align: middle;\n",
       "    }\n",
       "\n",
       "    .dataframe tbody tr th {\n",
       "        vertical-align: top;\n",
       "    }\n",
       "\n",
       "    .dataframe thead th {\n",
       "        text-align: right;\n",
       "    }\n",
       "</style>\n",
       "<table border=\"1\" class=\"dataframe\">\n",
       "  <thead>\n",
       "    <tr style=\"text-align: right;\">\n",
       "      <th></th>\n",
       "      <th>cities</th>\n",
       "      <th>area</th>\n",
       "    </tr>\n",
       "  </thead>\n",
       "  <tbody>\n",
       "    <tr>\n",
       "      <th>0</th>\n",
       "      <td>Greater London</td>\n",
       "      <td>1572</td>\n",
       "    </tr>\n",
       "  </tbody>\n",
       "</table>\n",
       "</div>"
      ],
      "text/plain": [
       "           cities  area\n",
       "0  Greater London  1572"
      ]
     },
     "execution_count": 40,
     "metadata": {},
     "output_type": "execute_result"
    }
   ],
   "source": [
    "df[['cities', 'area']][0:1]"
   ]
  },
  {
   "cell_type": "code",
   "execution_count": 41,
   "id": "eee61e50-3665-4333-ac34-f969fd0d2153",
   "metadata": {},
   "outputs": [],
   "source": [
    "df.set_index('cities', inplace=True)"
   ]
  },
  {
   "cell_type": "code",
   "execution_count": 42,
   "id": "c522fecc-576f-46a1-952b-a21847cbf66f",
   "metadata": {},
   "outputs": [
    {
     "data": {
      "text/plain": [
       "population    9272565\n",
       "area              627\n",
       "Name: Tokyo, dtype: int64"
      ]
     },
     "execution_count": 42,
     "metadata": {},
     "output_type": "execute_result"
    }
   ],
   "source": [
    "df.loc['Tokyo']"
   ]
  },
  {
   "cell_type": "code",
   "execution_count": 43,
   "id": "8664d772-38f5-426b-9864-a6ddb67e4927",
   "metadata": {},
   "outputs": [
    {
     "data": {
      "text/plain": [
       "8663300"
      ]
     },
     "execution_count": 43,
     "metadata": {},
     "output_type": "execute_result"
    }
   ],
   "source": [
    "df.loc['Greater London', 'population']"
   ]
  },
  {
   "cell_type": "code",
   "execution_count": 44,
   "id": "914deaaa-2eac-468c-a1cb-637029b15d84",
   "metadata": {},
   "outputs": [
    {
     "data": {
      "text/html": [
       "<div>\n",
       "<style scoped>\n",
       "    .dataframe tbody tr th:only-of-type {\n",
       "        vertical-align: middle;\n",
       "    }\n",
       "\n",
       "    .dataframe tbody tr th {\n",
       "        vertical-align: top;\n",
       "    }\n",
       "\n",
       "    .dataframe thead th {\n",
       "        text-align: right;\n",
       "    }\n",
       "</style>\n",
       "<table border=\"1\" class=\"dataframe\">\n",
       "  <thead>\n",
       "    <tr style=\"text-align: right;\">\n",
       "      <th></th>\n",
       "      <th>population</th>\n",
       "      <th>area</th>\n",
       "    </tr>\n",
       "  </thead>\n",
       "  <tbody>\n",
       "    <tr>\n",
       "      <th>count</th>\n",
       "      <td>4.000000e+00</td>\n",
       "      <td>4.000000</td>\n",
       "    </tr>\n",
       "    <tr>\n",
       "      <th>mean</th>\n",
       "      <td>7.164141e+06</td>\n",
       "      <td>772.000000</td>\n",
       "    </tr>\n",
       "    <tr>\n",
       "      <th>std</th>\n",
       "      <td>3.306720e+06</td>\n",
       "      <td>607.195191</td>\n",
       "    </tr>\n",
       "    <tr>\n",
       "      <th>min</th>\n",
       "      <td>2.229621e+06</td>\n",
       "      <td>105.000000</td>\n",
       "    </tr>\n",
       "    <tr>\n",
       "      <th>25%</th>\n",
       "      <td>6.925714e+06</td>\n",
       "      <td>496.500000</td>\n",
       "    </tr>\n",
       "    <tr>\n",
       "      <th>50%</th>\n",
       "      <td>8.577190e+06</td>\n",
       "      <td>705.500000</td>\n",
       "    </tr>\n",
       "    <tr>\n",
       "      <th>75%</th>\n",
       "      <td>8.815616e+06</td>\n",
       "      <td>981.000000</td>\n",
       "    </tr>\n",
       "    <tr>\n",
       "      <th>max</th>\n",
       "      <td>9.272565e+06</td>\n",
       "      <td>1572.000000</td>\n",
       "    </tr>\n",
       "  </tbody>\n",
       "</table>\n",
       "</div>"
      ],
      "text/plain": [
       "         population         area\n",
       "count  4.000000e+00     4.000000\n",
       "mean   7.164141e+06   772.000000\n",
       "std    3.306720e+06   607.195191\n",
       "min    2.229621e+06   105.000000\n",
       "25%    6.925714e+06   496.500000\n",
       "50%    8.577190e+06   705.500000\n",
       "75%    8.815616e+06   981.000000\n",
       "max    9.272565e+06  1572.000000"
      ]
     },
     "execution_count": 44,
     "metadata": {},
     "output_type": "execute_result"
    }
   ],
   "source": [
    "df.describe()"
   ]
  },
  {
   "cell_type": "code",
   "execution_count": 45,
   "id": "aede7ca5-be45-49c5-90b1-92732a812846",
   "metadata": {},
   "outputs": [],
   "source": [
    "df['pop_density'] = df['population']/df['area']"
   ]
  },
  {
   "cell_type": "code",
   "execution_count": 46,
   "id": "9fc4c7b6-a42e-4cad-8e30-2f0d5f10d17d",
   "metadata": {},
   "outputs": [
    {
     "data": {
      "text/html": [
       "<div>\n",
       "<style scoped>\n",
       "    .dataframe tbody tr th:only-of-type {\n",
       "        vertical-align: middle;\n",
       "    }\n",
       "\n",
       "    .dataframe tbody tr th {\n",
       "        vertical-align: top;\n",
       "    }\n",
       "\n",
       "    .dataframe thead th {\n",
       "        text-align: right;\n",
       "    }\n",
       "</style>\n",
       "<table border=\"1\" class=\"dataframe\">\n",
       "  <thead>\n",
       "    <tr style=\"text-align: right;\">\n",
       "      <th></th>\n",
       "      <th>population</th>\n",
       "      <th>area</th>\n",
       "      <th>pop_density</th>\n",
       "    </tr>\n",
       "    <tr>\n",
       "      <th>cities</th>\n",
       "      <th></th>\n",
       "      <th></th>\n",
       "      <th></th>\n",
       "    </tr>\n",
       "  </thead>\n",
       "  <tbody>\n",
       "    <tr>\n",
       "      <th>Greater London</th>\n",
       "      <td>8663300</td>\n",
       "      <td>1572</td>\n",
       "      <td>5511.005089</td>\n",
       "    </tr>\n",
       "    <tr>\n",
       "      <th>Tokyo</th>\n",
       "      <td>9272565</td>\n",
       "      <td>627</td>\n",
       "      <td>14788.779904</td>\n",
       "    </tr>\n",
       "    <tr>\n",
       "      <th>Paris</th>\n",
       "      <td>2229621</td>\n",
       "      <td>105</td>\n",
       "      <td>21234.485714</td>\n",
       "    </tr>\n",
       "    <tr>\n",
       "      <th>New York</th>\n",
       "      <td>8491079</td>\n",
       "      <td>784</td>\n",
       "      <td>10830.457908</td>\n",
       "    </tr>\n",
       "  </tbody>\n",
       "</table>\n",
       "</div>"
      ],
      "text/plain": [
       "                population  area   pop_density\n",
       "cities                                        \n",
       "Greater London     8663300  1572   5511.005089\n",
       "Tokyo              9272565   627  14788.779904\n",
       "Paris              2229621   105  21234.485714\n",
       "New York           8491079   784  10830.457908"
      ]
     },
     "execution_count": 46,
     "metadata": {},
     "output_type": "execute_result"
    }
   ],
   "source": [
    "df"
   ]
  },
  {
   "cell_type": "code",
   "execution_count": null,
   "id": "5f6c7b91-f366-423b-9da0-d0173bc99889",
   "metadata": {},
   "outputs": [],
   "source": []
  }
 ],
 "metadata": {
  "kernelspec": {
   "display_name": "Python 3 (ipykernel)",
   "language": "python",
   "name": "python3"
  },
  "language_info": {
   "codemirror_mode": {
    "name": "ipython",
    "version": 3
   },
   "file_extension": ".py",
   "mimetype": "text/x-python",
   "name": "python",
   "nbconvert_exporter": "python",
   "pygments_lexer": "ipython3",
   "version": "3.11.7"
  }
 },
 "nbformat": 4,
 "nbformat_minor": 5
}
