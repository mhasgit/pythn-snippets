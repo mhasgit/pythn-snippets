{
 "cells": [
  {
   "cell_type": "code",
   "execution_count": 32,
   "id": "63e49ddd-76cb-4193-af68-6517b7732c8d",
   "metadata": {},
   "outputs": [
    {
     "name": "stdout",
     "output_type": "stream",
     "text": [
      "*\n",
      "*\n",
      "*\n",
      "*\n",
      "* * * * \n"
     ]
    }
   ],
   "source": [
    "height = 5\n",
    "width = 4\n",
    "\n",
    "for i in range(height):\n",
    "    if i < height - 1:\n",
    "        print('*')\n",
    "    else:\n",
    "        print('* ' * width)\n",
    "        # for i in range(width):\n",
    "        #     print('* ', end = '')"
   ]
  },
  {
   "cell_type": "code",
   "execution_count": 33,
   "id": "8b7e96f2-0b6c-4e85-847c-13a49189295f",
   "metadata": {},
   "outputs": [
    {
     "name": "stdout",
     "output_type": "stream",
     "text": [
      "**********\n",
      "**********\n",
      "**********\n",
      "**********\n",
      "**********\n",
      "**********\n",
      "**********\n",
      "**********\n",
      "**********\n",
      "**********\n"
     ]
    }
   ],
   "source": [
    "for i in range(10):\n",
    "    for j in range(10):\n",
    "        print('*', end = '')\n",
    "    print()"
   ]
  },
  {
   "cell_type": "code",
   "execution_count": null,
   "id": "10c92da8-52b4-42d9-81e0-e2616ca6c458",
   "metadata": {},
   "outputs": [],
   "source": []
  }
 ],
 "metadata": {
  "kernelspec": {
   "display_name": "Python 3 (ipykernel)",
   "language": "python",
   "name": "python3"
  },
  "language_info": {
   "codemirror_mode": {
    "name": "ipython",
    "version": 3
   },
   "file_extension": ".py",
   "mimetype": "text/x-python",
   "name": "python",
   "nbconvert_exporter": "python",
   "pygments_lexer": "ipython3",
   "version": "3.11.7"
  }
 },
 "nbformat": 4,
 "nbformat_minor": 5
}
