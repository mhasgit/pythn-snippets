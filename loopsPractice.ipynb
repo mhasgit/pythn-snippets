{
 "cells": [
  {
   "cell_type": "code",
   "execution_count": 10,
   "id": "6c16f0f0-e387-44b8-8361-855bd5b0a7e0",
   "metadata": {},
   "outputs": [
    {
     "name": "stdout",
     "output_type": "stream",
     "text": [
      "Hello\n",
      "Hello\n",
      "Hello\n"
     ]
    }
   ],
   "source": [
    "count = 0\n",
    "while(count < 3):\n",
    "    count = count + 1\n",
    "    \n",
    "    print(\"Hello\")"
   ]
  },
  {
   "cell_type": "code",
   "execution_count": 7,
   "id": "5f5d392b-952e-4ea7-a580-9e092c5d40cc",
   "metadata": {},
   "outputs": [
    {
     "name": "stdout",
     "output_type": "stream",
     "text": [
      "Salute, Riaz\n",
      "Salute, Najeeb\n",
      "Salute, Hamza\n"
     ]
    }
   ],
   "source": [
    "students = [\"Riaz\", \"Najeeb\", \"Hamza\"]\n",
    "for student in students:\n",
    "    print(\"Salute, {0}\".format(student))"
   ]
  },
  {
   "cell_type": "code",
   "execution_count": 24,
   "id": "1be6cce0-fa6a-4a20-bc8a-ef5b1dd94fd2",
   "metadata": {},
   "outputs": [],
   "source": [
    "def greetings():\n",
    "    \"'Warm Greetings'\"\n",
    "    student = \"Hello! Riaz \"\n",
    "    beverage = \"Apple Juice\"\n",
    "    statement = \" because it is \"\n",
    "    temperature = \"Hot\"\n",
    "    return student + beverage + statement + temperature"
   ]
  },
  {
   "cell_type": "code",
   "execution_count": 25,
   "id": "bb682186-2e2d-48d3-9ca8-86df88384a56",
   "metadata": {},
   "outputs": [
    {
     "data": {
      "text/plain": [
       "'Hello! Riaz Apple Juice because it is Hot'"
      ]
     },
     "execution_count": 25,
     "metadata": {},
     "output_type": "execute_result"
    }
   ],
   "source": [
    "greetings()"
   ]
  },
  {
   "cell_type": "code",
   "execution_count": 27,
   "id": "519a3870-9b1d-4838-9cd4-f9d169a881eb",
   "metadata": {},
   "outputs": [
    {
     "name": "stdout",
     "output_type": "stream",
     "text": [
      "'Warm Greetings'\n"
     ]
    }
   ],
   "source": [
    "print(greetings.__doc__)"
   ]
  },
  {
   "cell_type": "code",
   "execution_count": 28,
   "id": "a428f358-0f76-47f5-812e-0de3bf880a4b",
   "metadata": {},
   "outputs": [],
   "source": [
    "def areaOfTriangle(base, height = 1.0):\n",
    "    return base * height / 2"
   ]
  },
  {
   "cell_type": "code",
   "execution_count": 30,
   "id": "dd771381-adb4-496d-bfeb-c0f25f255358",
   "metadata": {},
   "outputs": [
    {
     "name": "stdout",
     "output_type": "stream",
     "text": [
      "24.0\n",
      "25.0\n"
     ]
    }
   ],
   "source": [
    "area = areaOfTriangle(12, 4)\n",
    "print(area)\n",
    "area = areaOfTriangle(50)\n",
    "print(area)"
   ]
  },
  {
   "cell_type": "code",
   "execution_count": 36,
   "id": "d413534f-41f2-4db0-99b1-40f10945108e",
   "metadata": {},
   "outputs": [],
   "source": [
    "def tempConversion(temp, scale):\n",
    "    if scale == 'C':\n",
    "         return  (temp * 9/5) + 32\n",
    "    elif scale == 'F':\n",
    "        return (temp - 32) * 5/9\n",
    "    else:\n",
    "        print('Please use C or F for the scale')\n",
    "        return None"
   ]
  },
  {
   "cell_type": "code",
   "execution_count": 37,
   "id": "f2d74daa-fb15-4567-a152-7ec407a5d64a",
   "metadata": {},
   "outputs": [
    {
     "name": "stdout",
     "output_type": "stream",
     "text": [
      "232.77777777777777\n"
     ]
    }
   ],
   "source": [
    "temperature = tempConversion(451, 'F')\n",
    "print(temperature)"
   ]
  },
  {
   "cell_type": "code",
   "execution_count": 39,
   "id": "338ad2d5-3323-4c09-81a9-a01baea2d1f2",
   "metadata": {},
   "outputs": [
    {
     "data": {
      "text/plain": [
       "9"
      ]
     },
     "execution_count": 39,
     "metadata": {},
     "output_type": "execute_result"
    }
   ],
   "source": [
    "sq = lambda n: n * n\n",
    "sq(3)"
   ]
  },
  {
   "cell_type": "code",
   "execution_count": 43,
   "id": "e49fe6a9-3ba0-4278-a4f5-4a6e65ccdddd",
   "metadata": {},
   "outputs": [
    {
     "data": {
      "text/plain": [
       "[4, 16, 36, 64, 100]"
      ]
     },
     "execution_count": 43,
     "metadata": {},
     "output_type": "execute_result"
    }
   ],
   "source": [
    "num = [2, 4, 6, 8, 10]\n",
    "[sq(n) for n in num]"
   ]
  },
  {
   "cell_type": "code",
   "execution_count": 48,
   "id": "a1a18d5a-3076-47ca-af4d-e6b5fb0e3fe6",
   "metadata": {},
   "outputs": [
    {
     "ename": "NameError",
     "evalue": "name 'degreeSymbol' is not defined",
     "output_type": "error",
     "traceback": [
      "\u001b[1;31m---------------------------------------------------------------------------\u001b[0m",
      "\u001b[1;31mNameError\u001b[0m                                 Traceback (most recent call last)",
      "Cell \u001b[1;32mIn[48], line 7\u001b[0m\n\u001b[0;32m      5\u001b[0m     degreeSymbol \u001b[38;5;241m=\u001b[39m \u001b[38;5;28minput\u001b[39m(\u001b[38;5;124m'\u001b[39m\u001b[38;5;124mC or F?\u001b[39m\u001b[38;5;124m'\u001b[39m)\n\u001b[0;32m      6\u001b[0m     result \u001b[38;5;241m=\u001b[39m tempConversion(temperature, degreeSymbol)\n\u001b[1;32m----> 7\u001b[0m \u001b[38;5;28;01mif\u001b[39;00m degreeSymbol \u001b[38;5;241m==\u001b[39m \u001b[38;5;124m'\u001b[39m\u001b[38;5;124mC\u001b[39m\u001b[38;5;124m'\u001b[39m:\n\u001b[0;32m      8\u001b[0m     \u001b[38;5;28mprint\u001b[39m(\u001b[38;5;124m'\u001b[39m\u001b[38;5;132;01m{0}\u001b[39;00m\u001b[38;5;124m C is: \u001b[39m\u001b[38;5;132;01m{1:.2f}\u001b[39;00m\u001b[38;5;124m F\u001b[39m\u001b[38;5;124m'\u001b[39m\u001b[38;5;241m.\u001b[39mformat(temperature, result))\n\u001b[0;32m      9\u001b[0m \u001b[38;5;28;01melif\u001b[39;00m degreeSymbol \u001b[38;5;241m==\u001b[39m \u001b[38;5;124m'\u001b[39m\u001b[38;5;124mF\u001b[39m\u001b[38;5;124m'\u001b[39m:\n",
      "\u001b[1;31mNameError\u001b[0m: name 'degreeSymbol' is not defined"
     ]
    }
   ],
   "source": [
    "def main():\n",
    "    \"'Convert temperature provided by user'\"\n",
    "    temperature = input('Give me a temperature')\n",
    "    temperature = float(temperature)\n",
    "    degreeSymbol = input('C or F?')\n",
    "    result = tempConversion(temperature, degreeSymbol)\n",
    "if degreeSymbol == 'C':\n",
    "    print('{0} C is: {1:.2f} F'.format(temperature, result))\n",
    "elif degreeSymbol == 'F':\n",
    "    print('{0} F is: {1:.2f} C'.format(temperature, result))\n",
    "else:\n",
    "    print('Try again')\n",
    "main()"
   ]
  },
  {
   "cell_type": "code",
   "execution_count": null,
   "id": "d1199a98-a8bd-41f6-bc4e-379833b8abed",
   "metadata": {},
   "outputs": [],
   "source": []
  },
  {
   "cell_type": "code",
   "execution_count": null,
   "id": "7356fba9-cd4a-4040-b7f6-8733d114a621",
   "metadata": {},
   "outputs": [],
   "source": []
  },
  {
   "cell_type": "code",
   "execution_count": null,
   "id": "7946feb9-b341-4365-87da-bf466886fcb5",
   "metadata": {},
   "outputs": [],
   "source": []
  },
  {
   "cell_type": "code",
   "execution_count": null,
   "id": "f636afd6-5525-4f32-ada8-22b3b56eadfd",
   "metadata": {},
   "outputs": [],
   "source": []
  },
  {
   "cell_type": "code",
   "execution_count": null,
   "id": "edea5613-2dc6-4222-a200-f016d8eb12b5",
   "metadata": {},
   "outputs": [],
   "source": []
  },
  {
   "cell_type": "code",
   "execution_count": null,
   "id": "05259168-866c-473d-9927-6560ea21b5af",
   "metadata": {},
   "outputs": [],
   "source": []
  },
  {
   "cell_type": "code",
   "execution_count": null,
   "id": "d3920feb-f84b-4051-a6ee-7915ab5b3d7d",
   "metadata": {},
   "outputs": [],
   "source": []
  }
 ],
 "metadata": {
  "kernelspec": {
   "display_name": "Python 3 (ipykernel)",
   "language": "python",
   "name": "python3"
  },
  "language_info": {
   "codemirror_mode": {
    "name": "ipython",
    "version": 3
   },
   "file_extension": ".py",
   "mimetype": "text/x-python",
   "name": "python",
   "nbconvert_exporter": "python",
   "pygments_lexer": "ipython3",
   "version": "3.11.7"
  }
 },
 "nbformat": 4,
 "nbformat_minor": 5
}
