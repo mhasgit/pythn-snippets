{
 "cells": [
  {
   "cell_type": "code",
   "execution_count": 8,
   "id": "37cb7e72-a43a-4869-b197-cafe10dd466c",
   "metadata": {},
   "outputs": [],
   "source": [
    "import pandas as pd"
   ]
  },
  {
   "cell_type": "code",
   "execution_count": 9,
   "id": "3d94e4aa-7f88-4274-9dcf-757f7dd3f9ed",
   "metadata": {},
   "outputs": [],
   "source": [
    "file_path = \"6thSE.xlsx\""
   ]
  },
  {
   "cell_type": "code",
   "execution_count": 10,
   "id": "38bf8df7-a7b0-4a4d-ab9b-5e3839ea785d",
   "metadata": {},
   "outputs": [],
   "source": [
    "df = pd.read_excel(file_path, sheet_name=\"BS Tele Combined\")"
   ]
  },
  {
   "cell_type": "code",
   "execution_count": null,
   "id": "a4defbf4-cd43-458f-806f-e1dd32003a0c",
   "metadata": {},
   "outputs": [],
   "source": []
  },
  {
   "cell_type": "code",
   "execution_count": 11,
   "id": "035ee934-3758-4d38-a665-10b9b9a908bd",
   "metadata": {},
   "outputs": [
    {
     "name": "stdout",
     "output_type": "stream",
     "text": [
      "Attendance has been updated and saved\n"
     ]
    },
    {
     "name": "stderr",
     "output_type": "stream",
     "text": [
      "C:\\Users\\hassa\\AppData\\Local\\Temp\\ipykernel_7172\\439568857.py:3: FutureWarning: Setting an item of incompatible dtype is deprecated and will raise an error in a future version of pandas. Value 'P' has dtype incompatible with float64, please explicitly cast to a compatible dtype first.\n",
      "  df.iat[index, col] = \"P\"\n",
      "C:\\Users\\hassa\\AppData\\Local\\Temp\\ipykernel_7172\\439568857.py:3: FutureWarning: Setting an item of incompatible dtype is deprecated and will raise an error in a future version of pandas. Value 'P' has dtype incompatible with float64, please explicitly cast to a compatible dtype first.\n",
      "  df.iat[index, col] = \"P\"\n",
      "C:\\Users\\hassa\\AppData\\Local\\Temp\\ipykernel_7172\\439568857.py:3: FutureWarning: Setting an item of incompatible dtype is deprecated and will raise an error in a future version of pandas. Value 'P' has dtype incompatible with float64, please explicitly cast to a compatible dtype first.\n",
      "  df.iat[index, col] = \"P\"\n",
      "C:\\Users\\hassa\\AppData\\Local\\Temp\\ipykernel_7172\\439568857.py:3: FutureWarning: Setting an item of incompatible dtype is deprecated and will raise an error in a future version of pandas. Value 'P' has dtype incompatible with float64, please explicitly cast to a compatible dtype first.\n",
      "  df.iat[index, col] = \"P\"\n",
      "C:\\Users\\hassa\\AppData\\Local\\Temp\\ipykernel_7172\\439568857.py:3: FutureWarning: Setting an item of incompatible dtype is deprecated and will raise an error in a future version of pandas. Value 'P' has dtype incompatible with float64, please explicitly cast to a compatible dtype first.\n",
      "  df.iat[index, col] = \"P\"\n",
      "C:\\Users\\hassa\\AppData\\Local\\Temp\\ipykernel_7172\\439568857.py:3: FutureWarning: Setting an item of incompatible dtype is deprecated and will raise an error in a future version of pandas. Value 'P' has dtype incompatible with float64, please explicitly cast to a compatible dtype first.\n",
      "  df.iat[index, col] = \"P\"\n",
      "C:\\Users\\hassa\\AppData\\Local\\Temp\\ipykernel_7172\\439568857.py:3: FutureWarning: Setting an item of incompatible dtype is deprecated and will raise an error in a future version of pandas. Value 'P' has dtype incompatible with float64, please explicitly cast to a compatible dtype first.\n",
      "  df.iat[index, col] = \"P\"\n",
      "C:\\Users\\hassa\\AppData\\Local\\Temp\\ipykernel_7172\\439568857.py:3: FutureWarning: Setting an item of incompatible dtype is deprecated and will raise an error in a future version of pandas. Value 'P' has dtype incompatible with float64, please explicitly cast to a compatible dtype first.\n",
      "  df.iat[index, col] = \"P\"\n",
      "C:\\Users\\hassa\\AppData\\Local\\Temp\\ipykernel_7172\\439568857.py:3: FutureWarning: Setting an item of incompatible dtype is deprecated and will raise an error in a future version of pandas. Value 'P' has dtype incompatible with float64, please explicitly cast to a compatible dtype first.\n",
      "  df.iat[index, col] = \"P\"\n"
     ]
    }
   ],
   "source": [
    "for index in range(len(df)):\n",
    "    for col in range(4, 14):\n",
    "        df.iat[index, col] = \"P\"\n",
    "\n",
    "output_file_path = \"updated_attendance.xlsx\"\n",
    "df.to_excel(output_file_path, index=False)\n",
    "\n",
    "print(\"Attendance has been updated and saved\")"
   ]
  },
  {
   "cell_type": "code",
   "execution_count": null,
   "id": "a3de0964-5437-425f-9759-e51a65b38041",
   "metadata": {},
   "outputs": [],
   "source": []
  },
  {
   "cell_type": "code",
   "execution_count": null,
   "id": "90b8f4d0-6299-4923-94f6-65423ed790fa",
   "metadata": {},
   "outputs": [],
   "source": []
  },
  {
   "cell_type": "code",
   "execution_count": 18,
   "id": "3112f978-34fb-41af-b768-76404898305d",
   "metadata": {},
   "outputs": [
    {
     "name": "stdout",
     "output_type": "stream",
     "text": [
      "Attendance has been updated with random 'P' and 'A' values and saved.\n"
     ]
    },
    {
     "name": "stderr",
     "output_type": "stream",
     "text": [
      "C:\\Users\\hassa\\AppData\\Local\\Temp\\ipykernel_7172\\2150625794.py:15: FutureWarning: Setting an item of incompatible dtype is deprecated and will raise an error in a future version of pandas. Value 'P' has dtype incompatible with float64, please explicitly cast to a compatible dtype first.\n",
      "  df.iat[index, col] = generate_random_attendance(probability_p=0.8)\n",
      "C:\\Users\\hassa\\AppData\\Local\\Temp\\ipykernel_7172\\2150625794.py:15: FutureWarning: Setting an item of incompatible dtype is deprecated and will raise an error in a future version of pandas. Value 'P' has dtype incompatible with float64, please explicitly cast to a compatible dtype first.\n",
      "  df.iat[index, col] = generate_random_attendance(probability_p=0.8)\n",
      "C:\\Users\\hassa\\AppData\\Local\\Temp\\ipykernel_7172\\2150625794.py:15: FutureWarning: Setting an item of incompatible dtype is deprecated and will raise an error in a future version of pandas. Value 'P' has dtype incompatible with float64, please explicitly cast to a compatible dtype first.\n",
      "  df.iat[index, col] = generate_random_attendance(probability_p=0.8)\n",
      "C:\\Users\\hassa\\AppData\\Local\\Temp\\ipykernel_7172\\2150625794.py:15: FutureWarning: Setting an item of incompatible dtype is deprecated and will raise an error in a future version of pandas. Value 'P' has dtype incompatible with float64, please explicitly cast to a compatible dtype first.\n",
      "  df.iat[index, col] = generate_random_attendance(probability_p=0.8)\n",
      "C:\\Users\\hassa\\AppData\\Local\\Temp\\ipykernel_7172\\2150625794.py:15: FutureWarning: Setting an item of incompatible dtype is deprecated and will raise an error in a future version of pandas. Value 'P' has dtype incompatible with float64, please explicitly cast to a compatible dtype first.\n",
      "  df.iat[index, col] = generate_random_attendance(probability_p=0.8)\n",
      "C:\\Users\\hassa\\AppData\\Local\\Temp\\ipykernel_7172\\2150625794.py:15: FutureWarning: Setting an item of incompatible dtype is deprecated and will raise an error in a future version of pandas. Value 'P' has dtype incompatible with float64, please explicitly cast to a compatible dtype first.\n",
      "  df.iat[index, col] = generate_random_attendance(probability_p=0.8)\n",
      "C:\\Users\\hassa\\AppData\\Local\\Temp\\ipykernel_7172\\2150625794.py:15: FutureWarning: Setting an item of incompatible dtype is deprecated and will raise an error in a future version of pandas. Value 'P' has dtype incompatible with float64, please explicitly cast to a compatible dtype first.\n",
      "  df.iat[index, col] = generate_random_attendance(probability_p=0.8)\n",
      "C:\\Users\\hassa\\AppData\\Local\\Temp\\ipykernel_7172\\2150625794.py:15: FutureWarning: Setting an item of incompatible dtype is deprecated and will raise an error in a future version of pandas. Value 'P' has dtype incompatible with float64, please explicitly cast to a compatible dtype first.\n",
      "  df.iat[index, col] = generate_random_attendance(probability_p=0.8)\n",
      "C:\\Users\\hassa\\AppData\\Local\\Temp\\ipykernel_7172\\2150625794.py:15: FutureWarning: Setting an item of incompatible dtype is deprecated and will raise an error in a future version of pandas. Value 'P' has dtype incompatible with float64, please explicitly cast to a compatible dtype first.\n",
      "  df.iat[index, col] = generate_random_attendance(probability_p=0.8)\n"
     ]
    }
   ],
   "source": [
    "import pandas as pd\n",
    "import random\n",
    "\n",
    "# Function to generate random attendance with 80% P and 20% A\n",
    "def generate_random_attendance(probability_p=0.8):\n",
    "    return \"P\" if random.random() < probability_p else \"A\"\n",
    "\n",
    "# Load the Excel file\n",
    "file_path = \"6thSE.xlsx\"  # Replace with your actual file name\n",
    "df = pd.read_excel(file_path, sheet_name=\"BS Tele Combined\")\n",
    "\n",
    "# Iterate over the rows and columns to fill in random attendance\n",
    "for index in range(len(df)):\n",
    "    for col in range(3, 14):  # Columns D to N (index 3 to 13 in pandas)\n",
    "        df.iat[index, col] = generate_random_attendance(probability_p=0.8)\n",
    "\n",
    "# Save the updated DataFrame back to an Excel file\n",
    "output_file_path = \"updated_attendance_random_P_A.xlsx\"\n",
    "df.to_excel(output_file_path, index=False)\n",
    "\n",
    "print(\"Attendance has been updated with random 'P' and 'A' values and saved.\")\n"
   ]
  },
  {
   "cell_type": "code",
   "execution_count": null,
   "id": "631ff394-fcae-4fe5-bc05-c5fc573eb1f1",
   "metadata": {},
   "outputs": [],
   "source": []
  }
 ],
 "metadata": {
  "kernelspec": {
   "display_name": "Python 3 (ipykernel)",
   "language": "python",
   "name": "python3"
  },
  "language_info": {
   "codemirror_mode": {
    "name": "ipython",
    "version": 3
   },
   "file_extension": ".py",
   "mimetype": "text/x-python",
   "name": "python",
   "nbconvert_exporter": "python",
   "pygments_lexer": "ipython3",
   "version": "3.12.4"
  }
 },
 "nbformat": 4,
 "nbformat_minor": 5
}
