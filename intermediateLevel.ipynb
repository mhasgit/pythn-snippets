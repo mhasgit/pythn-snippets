{
 "cells": [
  {
   "cell_type": "code",
   "execution_count": 35,
   "id": "093bd286-55bb-4e36-b144-b9aadd15408c",
   "metadata": {},
   "outputs": [],
   "source": [
    "#Set\n",
    "numbers = {1, 2, 3, 4, 5}\n",
    "\n",
    "#tuples\n",
    "vulcan = [\"Ali\", \"Mubashir\", \"Najeeb\", \"Rahim\", \"Hamza\", \"Ibad\"]\n",
    "\n",
    "#Lists\n",
    "starships = (1701, \"Enterprise\", 1728.40, 1031, \"Discovery\", 1207.3)\n",
    "\n",
    "marks = {'Ali': 100, 'Riaz': 95}"
   ]
  },
  {
   "cell_type": "code",
   "execution_count": 36,
   "id": "63731b66-e993-424e-a13a-71ac5e7600a3",
   "metadata": {},
   "outputs": [
    {
     "data": {
      "text/plain": [
       "set"
      ]
     },
     "execution_count": 36,
     "metadata": {},
     "output_type": "execute_result"
    }
   ],
   "source": [
    "type(numbers)"
   ]
  },
  {
   "cell_type": "code",
   "execution_count": 37,
   "id": "8e467e83-d579-4414-b3c2-ea410814db9e",
   "metadata": {},
   "outputs": [
    {
     "data": {
      "text/plain": [
       "tuple"
      ]
     },
     "execution_count": 37,
     "metadata": {},
     "output_type": "execute_result"
    }
   ],
   "source": [
    "type(starships)"
   ]
  },
  {
   "cell_type": "code",
   "execution_count": 38,
   "id": "42521394-b40c-4ac0-ac50-aec28115278c",
   "metadata": {},
   "outputs": [
    {
     "data": {
      "text/plain": [
       "list"
      ]
     },
     "execution_count": 38,
     "metadata": {},
     "output_type": "execute_result"
    }
   ],
   "source": [
    "type(vulcan)"
   ]
  },
  {
   "cell_type": "code",
   "execution_count": 39,
   "id": "12aecd90-e6ca-4751-a9f2-df0c90254c50",
   "metadata": {},
   "outputs": [
    {
     "data": {
      "text/plain": [
       "dict"
      ]
     },
     "execution_count": 39,
     "metadata": {},
     "output_type": "execute_result"
    }
   ],
   "source": [
    "type(marks)"
   ]
  },
  {
   "cell_type": "code",
   "execution_count": 28,
   "id": "1835f9ff-e20a-4e61-85c6-da370d05ff4f",
   "metadata": {},
   "outputs": [
    {
     "name": "stdout",
     "output_type": "stream",
     "text": [
      "[0, 11, 21, 23, 32, 44, 45, 56, 76]\n"
     ]
    },
    {
     "data": {
      "text/plain": [
       "list"
      ]
     },
     "execution_count": 28,
     "metadata": {},
     "output_type": "execute_result"
    }
   ],
   "source": [
    "t1 = (21, 0, 11, 23, 45, 56, 76, 44, 32)\n",
    "t2= sorted(t1)\n",
    "print(t2)\n",
    "type(t2)"
   ]
  },
  {
   "cell_type": "code",
   "execution_count": 29,
   "id": "4fc59c6f-e5ea-4cff-81f1-f019c9b51b8e",
   "metadata": {},
   "outputs": [
    {
     "data": {
      "text/plain": [
       "9"
      ]
     },
     "execution_count": 29,
     "metadata": {},
     "output_type": "execute_result"
    }
   ],
   "source": [
    "len(t2)"
   ]
  },
  {
   "cell_type": "code",
   "execution_count": 31,
   "id": "6a4fa029-2702-49f3-8e17-f7143b16e43d",
   "metadata": {},
   "outputs": [
    {
     "name": "stdout",
     "output_type": "stream",
     "text": [
      "<zip object at 0x000002218F49C780>\n"
     ]
    },
    {
     "data": {
      "text/plain": [
       "zip"
      ]
     },
     "execution_count": 31,
     "metadata": {},
     "output_type": "execute_result"
    }
   ],
   "source": [
    "translate = zip(numbers, vulcan)\n",
    "print(translate)\n",
    "type(translate)"
   ]
  },
  {
   "cell_type": "code",
   "execution_count": 32,
   "id": "d7d0daf5-a2a3-4e8e-bf5f-cbda72be2423",
   "metadata": {},
   "outputs": [
    {
     "name": "stdout",
     "output_type": "stream",
     "text": [
      "[(1, 'Ali'), (2, 'Mubashir'), (3, 'Najeeb'), (4, 'Rahim'), (5, 'Hamza')]\n"
     ]
    }
   ],
   "source": [
    "listTranslate = list(translate)\n",
    "print(listTranslate)"
   ]
  },
  {
   "cell_type": "code",
   "execution_count": 45,
   "id": "031e64cd-c262-4bce-9d2b-5b147aef179f",
   "metadata": {},
   "outputs": [
    {
     "name": "stdout",
     "output_type": "stream",
     "text": [
      "[90, 78, 85, 91, 89]\n",
      "{'SRS': 80, 'FMSE': 90, 'SC': 86}\n"
     ]
    }
   ],
   "source": [
    "marks = {'Ali': 100, 'Riaz': 95, \"Najeeb\": 94,\n",
    "        'Mubashir': [90, 78, 85, 91, 89],\n",
    "        'Rahim': {'SRS': 80, 'FMSE': 90, 'SC': 86}}\n",
    "print(marks['Mubashir'])\n",
    "print(marks['Rahim'])"
   ]
  },
  {
   "cell_type": "code",
   "execution_count": 49,
   "id": "150b91e4-226d-4833-89c8-92660c885faa",
   "metadata": {},
   "outputs": [
    {
     "name": "stdout",
     "output_type": "stream",
     "text": [
      "90\n"
     ]
    }
   ],
   "source": [
    "print(marks['Mubashir'][0]);"
   ]
  },
  {
   "cell_type": "code",
   "execution_count": 51,
   "id": "aab4335a-51c9-44c3-acbe-4aa2652a6286",
   "metadata": {},
   "outputs": [
    {
     "name": "stdout",
     "output_type": "stream",
     "text": [
      "dict_keys(['Ali', 'Riaz', 'Najeeb', 'Mubashir', 'Rahim'])\n"
     ]
    }
   ],
   "source": [
    "studentMarks = marks.keys()\n",
    "print(studentMarks)"
   ]
  },
  {
   "cell_type": "code",
   "execution_count": 53,
   "id": "ffeb22bc-c497-47c6-a70b-91d0f072c543",
   "metadata": {},
   "outputs": [
    {
     "name": "stdout",
     "output_type": "stream",
     "text": [
      "{'Ali': 100, 'Riaz': 95, 'Najeeb': 94, 'Mubashir': [90, 78, 85, 91, 89], 'Rahim': {'Web': 80}}\n"
     ]
    }
   ],
   "source": [
    "marks['Rahim'] = {'Web': 80}\n",
    "print(marks)"
   ]
  },
  {
   "cell_type": "code",
   "execution_count": 54,
   "id": "5c98097d-cc62-4663-8276-0d27c0e44e6a",
   "metadata": {},
   "outputs": [
    {
     "name": "stdout",
     "output_type": "stream",
     "text": [
      "dict_values([100, 95, 94, [90, 78, 85, 91, 89], {'Web': 80}])\n",
      "dict_items([('Ali', 100), ('Riaz', 95), ('Najeeb', 94), ('Mubashir', [90, 78, 85, 91, 89]), ('Rahim', {'Web': 80})])\n"
     ]
    }
   ],
   "source": [
    "rank = marks.values()\n",
    "pairs = marks.items()\n",
    "print(rank)\n",
    "print(pairs)"
   ]
  },
  {
   "cell_type": "code",
   "execution_count": 61,
   "id": "85209a9b-85b9-4ef3-ad42-76e9a01bf53e",
   "metadata": {},
   "outputs": [
    {
     "name": "stdout",
     "output_type": "stream",
     "text": [
      "{'Captain': 'James T. Kirk', 'First Officer': 'Spock', 'Science Officer': 'Spock', 'Communications Officer': 'Uhura', 'Navigator': 'Pavel Chekov', 'Security Tactical Officer': 'Pavel Chekov', 'Chief Engineer': 'Montgomery Scott', 'Chief Medical Officer': 'Leonard McCoy', 'Helmsman': 'Hikaru Sulu'}\n",
      "dict_keys(['Captain', 'First Officer', 'Science Officer', 'Communications Officer', 'Navigator', 'Security Tactical Officer', 'Chief Engineer', 'Chief Medical Officer', 'Helmsman'])\n",
      "dict_values(['James T. Kirk', 'Spock', 'Spock', 'Uhura', 'Pavel Chekov', 'Pavel Chekov', 'Montgomery Scott', 'Leonard McCoy', 'Hikaru Sulu'])\n"
     ]
    }
   ],
   "source": [
    "pairs = {'Captain': 'James T. Kirk',\n",
    "'First Officer': 'Spock',\n",
    "'Science Officer': 'Spock',\n",
    "'Communications Officer': 'Uhura',\n",
    "'Navigator': 'Pavel Chekov', \n",
    "'Security Tactical Officer': 'Pavel Chekov',\n",
    "'Chief Engineer': 'Montgomery Scott', \n",
    "'Chief Medical Officer': 'Leonard McCoy',\n",
    "'Helmsman': 'Hikaru Sulu'}\n",
    "print(pairs)"
   ]
  },
  {
   "cell_type": "code",
   "execution_count": 64,
   "id": "431869f1-0bc7-4922-ae97-faf82115fe78",
   "metadata": {},
   "outputs": [
    {
     "name": "stdout",
     "output_type": "stream",
     "text": [
      "{1, 2, 3, 4, 5, 6, 7, 8, 9}\n"
     ]
    }
   ],
   "source": [
    "numberSet = [1, 2, 3, 4, 5, 6, 7, 8, 6, 6, 6, 7, 9]\n",
    "type(numberSet)\n",
    "print(numberSet)"
   ]
  },
  {
   "cell_type": "code",
   "execution_count": 69,
   "id": "6f977604-ef6e-4c34-b043-004b2f9cd835",
   "metadata": {},
   "outputs": [
    {
     "name": "stdout",
     "output_type": "stream",
     "text": [
      "{4, 5, 6, 7}\n",
      "{'Ali': 34}\n"
     ]
    }
   ],
   "source": [
    "# set() function set\n",
    "extinct = set([7, 4, 5, 6, 7])\n",
    "print(extinct)\n",
    "\n",
    "# dict() function for declaring dictionary\n",
    "mark = dict({'Ali': 34})\n",
    "print(mark)"
   ]
  },
  {
   "cell_type": "code",
   "execution_count": 73,
   "id": "b944c922-8d24-44d9-aa9a-4b08f3d83720",
   "metadata": {},
   "outputs": [
    {
     "name": "stdout",
     "output_type": "stream",
     "text": [
      "False\n"
     ]
    },
    {
     "data": {
      "text/plain": [
       "bool"
      ]
     },
     "execution_count": 73,
     "metadata": {},
     "output_type": "execute_result"
    }
   ],
   "source": [
    "print(23 - 12 == 45)\n",
    "type(23 - 12 == 45)"
   ]
  },
  {
   "cell_type": "code",
   "execution_count": 79,
   "id": "d6492982-81f9-4382-82ac-b88d0f3355c6",
   "metadata": {},
   "outputs": [
    {
     "data": {
      "text/plain": [
       "True"
      ]
     },
     "execution_count": 79,
     "metadata": {},
     "output_type": "execute_result"
    }
   ],
   "source": [
    "a = 75 == 75\n",
    "(51 > 21) and a"
   ]
  },
  {
   "cell_type": "code",
   "execution_count": 76,
   "id": "0610d456-1a3a-4e0a-8658-309a7d3beb22",
   "metadata": {},
   "outputs": [
    {
     "data": {
      "text/plain": [
       "True"
      ]
     },
     "execution_count": 76,
     "metadata": {},
     "output_type": "execute_result"
    }
   ],
   "source": [
    "(72 > 32) and ((94 == 87) or not a)"
   ]
  },
  {
   "cell_type": "code",
   "execution_count": 86,
   "id": "6e117cf0-c099-43ec-99b2-ebb413643196",
   "metadata": {},
   "outputs": [
    {
     "name": "stdout",
     "output_type": "stream",
     "text": [
      "Phew! So say we all!\n"
     ]
    }
   ],
   "source": [
    "officers = ['Admiral', 'Commander', 'Lieutenant', 'Chief'] \n",
    "president = 'Laura Roslin'\n",
    "if president in pairs: print('We have a problem!')    \n",
    "elif president in officers: print('We need an election!')\n",
    "else: print('Phew! So say we all!')"
   ]
  },
  {
   "cell_type": "code",
   "execution_count": null,
   "id": "89971cbd-6daf-42c5-81f1-73a181dac5e5",
   "metadata": {},
   "outputs": [],
   "source": []
  },
  {
   "cell_type": "code",
   "execution_count": null,
   "id": "78344aff-356e-4461-9a8e-91424411b54c",
   "metadata": {},
   "outputs": [],
   "source": []
  }
 ],
 "metadata": {
  "kernelspec": {
   "display_name": "Python 3 (ipykernel)",
   "language": "python",
   "name": "python3"
  },
  "language_info": {
   "codemirror_mode": {
    "name": "ipython",
    "version": 3
   },
   "file_extension": ".py",
   "mimetype": "text/x-python",
   "name": "python",
   "nbconvert_exporter": "python",
   "pygments_lexer": "ipython3",
   "version": "3.11.7"
  }
 },
 "nbformat": 4,
 "nbformat_minor": 5
}
